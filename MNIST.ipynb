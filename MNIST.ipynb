{
 "cells": [
  {
   "cell_type": "markdown",
   "id": "c3615e4a",
   "metadata": {},
   "source": [
    "## Fetch and Load data"
   ]
  },
  {
   "cell_type": "code",
   "execution_count": 1,
   "id": "d1d2d943",
   "metadata": {},
   "outputs": [
    {
     "name": "stderr",
     "output_type": "stream",
     "text": [
      "C:\\Users\\Mary\\anaconda3\\lib\\site-packages\\sklearn\\datasets\\_openml.py:932: FutureWarning: The default value of `parser` will change from `'liac-arff'` to `'auto'` in 1.4. You can set `parser='auto'` to silence this warning. Therefore, an `ImportError` will be raised from 1.4 if the dataset is dense and pandas is not installed. Note that the pandas parser may return different data types. See the Notes Section in fetch_openml's API doc for details.\n",
      "  warn(\n"
     ]
    },
    {
     "data": {
      "text/plain": [
       "dict_keys(['data', 'target', 'frame', 'categories', 'feature_names', 'target_names', 'DESCR', 'details', 'url'])"
      ]
     },
     "execution_count": 1,
     "metadata": {},
     "output_type": "execute_result"
    }
   ],
   "source": [
    "#fetch MNIST dataset using sci-kit learn\n",
    "from sklearn.datasets import fetch_openml\n",
    "mnist = fetch_openml('mnist_784',version = 1)\n",
    "mnist.keys()"
   ]
  },
  {
   "cell_type": "markdown",
   "id": "b313f0db",
   "metadata": {},
   "source": [
    "#alternatively load data from keras\n",
    "from keras.datasets import mnist\n",
    "(x_train, y_train), (x_test, y_test) = mnist.load_data()"
   ]
  },
  {
   "cell_type": "code",
   "execution_count": 79,
   "id": "44636654",
   "metadata": {
    "scrolled": true
   },
   "outputs": [],
   "source": [
    "import pandas as pd\n",
    "import numpy as np\n",
    "x , y= mnist['data'], mnist['target']"
   ]
  },
  {
   "cell_type": "code",
   "execution_count": 3,
   "id": "eeeb15a1",
   "metadata": {
    "scrolled": true
   },
   "outputs": [
    {
     "name": "stdout",
     "output_type": "stream",
     "text": [
      "(70000, 784) (70000,)\n"
     ]
    }
   ],
   "source": [
    "print(x.shape, y.shape)"
   ]
  },
  {
   "cell_type": "code",
   "execution_count": 4,
   "id": "1bd747a6",
   "metadata": {},
   "outputs": [
    {
     "data": {
      "text/html": [
       "<div>\n",
       "<style scoped>\n",
       "    .dataframe tbody tr th:only-of-type {\n",
       "        vertical-align: middle;\n",
       "    }\n",
       "\n",
       "    .dataframe tbody tr th {\n",
       "        vertical-align: top;\n",
       "    }\n",
       "\n",
       "    .dataframe thead th {\n",
       "        text-align: right;\n",
       "    }\n",
       "</style>\n",
       "<table border=\"1\" class=\"dataframe\">\n",
       "  <thead>\n",
       "    <tr style=\"text-align: right;\">\n",
       "      <th></th>\n",
       "      <th>pixel1</th>\n",
       "      <th>pixel2</th>\n",
       "      <th>pixel3</th>\n",
       "      <th>pixel4</th>\n",
       "      <th>pixel5</th>\n",
       "      <th>pixel6</th>\n",
       "      <th>pixel7</th>\n",
       "      <th>pixel8</th>\n",
       "      <th>pixel9</th>\n",
       "      <th>pixel10</th>\n",
       "      <th>...</th>\n",
       "      <th>pixel775</th>\n",
       "      <th>pixel776</th>\n",
       "      <th>pixel777</th>\n",
       "      <th>pixel778</th>\n",
       "      <th>pixel779</th>\n",
       "      <th>pixel780</th>\n",
       "      <th>pixel781</th>\n",
       "      <th>pixel782</th>\n",
       "      <th>pixel783</th>\n",
       "      <th>pixel784</th>\n",
       "    </tr>\n",
       "  </thead>\n",
       "  <tbody>\n",
       "    <tr>\n",
       "      <th>0</th>\n",
       "      <td>0.0</td>\n",
       "      <td>0.0</td>\n",
       "      <td>0.0</td>\n",
       "      <td>0.0</td>\n",
       "      <td>0.0</td>\n",
       "      <td>0.0</td>\n",
       "      <td>0.0</td>\n",
       "      <td>0.0</td>\n",
       "      <td>0.0</td>\n",
       "      <td>0.0</td>\n",
       "      <td>...</td>\n",
       "      <td>0.0</td>\n",
       "      <td>0.0</td>\n",
       "      <td>0.0</td>\n",
       "      <td>0.0</td>\n",
       "      <td>0.0</td>\n",
       "      <td>0.0</td>\n",
       "      <td>0.0</td>\n",
       "      <td>0.0</td>\n",
       "      <td>0.0</td>\n",
       "      <td>0.0</td>\n",
       "    </tr>\n",
       "    <tr>\n",
       "      <th>1</th>\n",
       "      <td>0.0</td>\n",
       "      <td>0.0</td>\n",
       "      <td>0.0</td>\n",
       "      <td>0.0</td>\n",
       "      <td>0.0</td>\n",
       "      <td>0.0</td>\n",
       "      <td>0.0</td>\n",
       "      <td>0.0</td>\n",
       "      <td>0.0</td>\n",
       "      <td>0.0</td>\n",
       "      <td>...</td>\n",
       "      <td>0.0</td>\n",
       "      <td>0.0</td>\n",
       "      <td>0.0</td>\n",
       "      <td>0.0</td>\n",
       "      <td>0.0</td>\n",
       "      <td>0.0</td>\n",
       "      <td>0.0</td>\n",
       "      <td>0.0</td>\n",
       "      <td>0.0</td>\n",
       "      <td>0.0</td>\n",
       "    </tr>\n",
       "    <tr>\n",
       "      <th>2</th>\n",
       "      <td>0.0</td>\n",
       "      <td>0.0</td>\n",
       "      <td>0.0</td>\n",
       "      <td>0.0</td>\n",
       "      <td>0.0</td>\n",
       "      <td>0.0</td>\n",
       "      <td>0.0</td>\n",
       "      <td>0.0</td>\n",
       "      <td>0.0</td>\n",
       "      <td>0.0</td>\n",
       "      <td>...</td>\n",
       "      <td>0.0</td>\n",
       "      <td>0.0</td>\n",
       "      <td>0.0</td>\n",
       "      <td>0.0</td>\n",
       "      <td>0.0</td>\n",
       "      <td>0.0</td>\n",
       "      <td>0.0</td>\n",
       "      <td>0.0</td>\n",
       "      <td>0.0</td>\n",
       "      <td>0.0</td>\n",
       "    </tr>\n",
       "    <tr>\n",
       "      <th>3</th>\n",
       "      <td>0.0</td>\n",
       "      <td>0.0</td>\n",
       "      <td>0.0</td>\n",
       "      <td>0.0</td>\n",
       "      <td>0.0</td>\n",
       "      <td>0.0</td>\n",
       "      <td>0.0</td>\n",
       "      <td>0.0</td>\n",
       "      <td>0.0</td>\n",
       "      <td>0.0</td>\n",
       "      <td>...</td>\n",
       "      <td>0.0</td>\n",
       "      <td>0.0</td>\n",
       "      <td>0.0</td>\n",
       "      <td>0.0</td>\n",
       "      <td>0.0</td>\n",
       "      <td>0.0</td>\n",
       "      <td>0.0</td>\n",
       "      <td>0.0</td>\n",
       "      <td>0.0</td>\n",
       "      <td>0.0</td>\n",
       "    </tr>\n",
       "    <tr>\n",
       "      <th>4</th>\n",
       "      <td>0.0</td>\n",
       "      <td>0.0</td>\n",
       "      <td>0.0</td>\n",
       "      <td>0.0</td>\n",
       "      <td>0.0</td>\n",
       "      <td>0.0</td>\n",
       "      <td>0.0</td>\n",
       "      <td>0.0</td>\n",
       "      <td>0.0</td>\n",
       "      <td>0.0</td>\n",
       "      <td>...</td>\n",
       "      <td>0.0</td>\n",
       "      <td>0.0</td>\n",
       "      <td>0.0</td>\n",
       "      <td>0.0</td>\n",
       "      <td>0.0</td>\n",
       "      <td>0.0</td>\n",
       "      <td>0.0</td>\n",
       "      <td>0.0</td>\n",
       "      <td>0.0</td>\n",
       "      <td>0.0</td>\n",
       "    </tr>\n",
       "  </tbody>\n",
       "</table>\n",
       "<p>5 rows × 784 columns</p>\n",
       "</div>"
      ],
      "text/plain": [
       "   pixel1  pixel2  pixel3  pixel4  pixel5  pixel6  pixel7  pixel8  pixel9  \\\n",
       "0     0.0     0.0     0.0     0.0     0.0     0.0     0.0     0.0     0.0   \n",
       "1     0.0     0.0     0.0     0.0     0.0     0.0     0.0     0.0     0.0   \n",
       "2     0.0     0.0     0.0     0.0     0.0     0.0     0.0     0.0     0.0   \n",
       "3     0.0     0.0     0.0     0.0     0.0     0.0     0.0     0.0     0.0   \n",
       "4     0.0     0.0     0.0     0.0     0.0     0.0     0.0     0.0     0.0   \n",
       "\n",
       "   pixel10  ...  pixel775  pixel776  pixel777  pixel778  pixel779  pixel780  \\\n",
       "0      0.0  ...       0.0       0.0       0.0       0.0       0.0       0.0   \n",
       "1      0.0  ...       0.0       0.0       0.0       0.0       0.0       0.0   \n",
       "2      0.0  ...       0.0       0.0       0.0       0.0       0.0       0.0   \n",
       "3      0.0  ...       0.0       0.0       0.0       0.0       0.0       0.0   \n",
       "4      0.0  ...       0.0       0.0       0.0       0.0       0.0       0.0   \n",
       "\n",
       "   pixel781  pixel782  pixel783  pixel784  \n",
       "0       0.0       0.0       0.0       0.0  \n",
       "1       0.0       0.0       0.0       0.0  \n",
       "2       0.0       0.0       0.0       0.0  \n",
       "3       0.0       0.0       0.0       0.0  \n",
       "4       0.0       0.0       0.0       0.0  \n",
       "\n",
       "[5 rows x 784 columns]"
      ]
     },
     "execution_count": 4,
     "metadata": {},
     "output_type": "execute_result"
    }
   ],
   "source": [
    "x.head()"
   ]
  },
  {
   "cell_type": "code",
   "execution_count": 5,
   "id": "1e1c3113",
   "metadata": {
    "scrolled": true
   },
   "outputs": [
    {
     "data": {
      "text/html": [
       "<div>\n",
       "<style scoped>\n",
       "    .dataframe tbody tr th:only-of-type {\n",
       "        vertical-align: middle;\n",
       "    }\n",
       "\n",
       "    .dataframe tbody tr th {\n",
       "        vertical-align: top;\n",
       "    }\n",
       "\n",
       "    .dataframe thead th {\n",
       "        text-align: right;\n",
       "    }\n",
       "</style>\n",
       "<table border=\"1\" class=\"dataframe\">\n",
       "  <thead>\n",
       "    <tr style=\"text-align: right;\">\n",
       "      <th></th>\n",
       "      <th>pixel1</th>\n",
       "      <th>pixel2</th>\n",
       "      <th>pixel3</th>\n",
       "      <th>pixel4</th>\n",
       "      <th>pixel5</th>\n",
       "      <th>pixel6</th>\n",
       "      <th>pixel7</th>\n",
       "      <th>pixel8</th>\n",
       "      <th>pixel9</th>\n",
       "      <th>pixel10</th>\n",
       "      <th>...</th>\n",
       "      <th>pixel775</th>\n",
       "      <th>pixel776</th>\n",
       "      <th>pixel777</th>\n",
       "      <th>pixel778</th>\n",
       "      <th>pixel779</th>\n",
       "      <th>pixel780</th>\n",
       "      <th>pixel781</th>\n",
       "      <th>pixel782</th>\n",
       "      <th>pixel783</th>\n",
       "      <th>pixel784</th>\n",
       "    </tr>\n",
       "  </thead>\n",
       "  <tbody>\n",
       "    <tr>\n",
       "      <th>0</th>\n",
       "      <td>0.0</td>\n",
       "      <td>0.0</td>\n",
       "      <td>0.0</td>\n",
       "      <td>0.0</td>\n",
       "      <td>0.0</td>\n",
       "      <td>0.0</td>\n",
       "      <td>0.0</td>\n",
       "      <td>0.0</td>\n",
       "      <td>0.0</td>\n",
       "      <td>0.0</td>\n",
       "      <td>...</td>\n",
       "      <td>0.0</td>\n",
       "      <td>0.0</td>\n",
       "      <td>0.0</td>\n",
       "      <td>0.0</td>\n",
       "      <td>0.0</td>\n",
       "      <td>0.0</td>\n",
       "      <td>0.0</td>\n",
       "      <td>0.0</td>\n",
       "      <td>0.0</td>\n",
       "      <td>0.0</td>\n",
       "    </tr>\n",
       "    <tr>\n",
       "      <th>1</th>\n",
       "      <td>0.0</td>\n",
       "      <td>0.0</td>\n",
       "      <td>0.0</td>\n",
       "      <td>0.0</td>\n",
       "      <td>0.0</td>\n",
       "      <td>0.0</td>\n",
       "      <td>0.0</td>\n",
       "      <td>0.0</td>\n",
       "      <td>0.0</td>\n",
       "      <td>0.0</td>\n",
       "      <td>...</td>\n",
       "      <td>0.0</td>\n",
       "      <td>0.0</td>\n",
       "      <td>0.0</td>\n",
       "      <td>0.0</td>\n",
       "      <td>0.0</td>\n",
       "      <td>0.0</td>\n",
       "      <td>0.0</td>\n",
       "      <td>0.0</td>\n",
       "      <td>0.0</td>\n",
       "      <td>0.0</td>\n",
       "    </tr>\n",
       "    <tr>\n",
       "      <th>2</th>\n",
       "      <td>0.0</td>\n",
       "      <td>0.0</td>\n",
       "      <td>0.0</td>\n",
       "      <td>0.0</td>\n",
       "      <td>0.0</td>\n",
       "      <td>0.0</td>\n",
       "      <td>0.0</td>\n",
       "      <td>0.0</td>\n",
       "      <td>0.0</td>\n",
       "      <td>0.0</td>\n",
       "      <td>...</td>\n",
       "      <td>0.0</td>\n",
       "      <td>0.0</td>\n",
       "      <td>0.0</td>\n",
       "      <td>0.0</td>\n",
       "      <td>0.0</td>\n",
       "      <td>0.0</td>\n",
       "      <td>0.0</td>\n",
       "      <td>0.0</td>\n",
       "      <td>0.0</td>\n",
       "      <td>0.0</td>\n",
       "    </tr>\n",
       "    <tr>\n",
       "      <th>3</th>\n",
       "      <td>0.0</td>\n",
       "      <td>0.0</td>\n",
       "      <td>0.0</td>\n",
       "      <td>0.0</td>\n",
       "      <td>0.0</td>\n",
       "      <td>0.0</td>\n",
       "      <td>0.0</td>\n",
       "      <td>0.0</td>\n",
       "      <td>0.0</td>\n",
       "      <td>0.0</td>\n",
       "      <td>...</td>\n",
       "      <td>0.0</td>\n",
       "      <td>0.0</td>\n",
       "      <td>0.0</td>\n",
       "      <td>0.0</td>\n",
       "      <td>0.0</td>\n",
       "      <td>0.0</td>\n",
       "      <td>0.0</td>\n",
       "      <td>0.0</td>\n",
       "      <td>0.0</td>\n",
       "      <td>0.0</td>\n",
       "    </tr>\n",
       "    <tr>\n",
       "      <th>4</th>\n",
       "      <td>0.0</td>\n",
       "      <td>0.0</td>\n",
       "      <td>0.0</td>\n",
       "      <td>0.0</td>\n",
       "      <td>0.0</td>\n",
       "      <td>0.0</td>\n",
       "      <td>0.0</td>\n",
       "      <td>0.0</td>\n",
       "      <td>0.0</td>\n",
       "      <td>0.0</td>\n",
       "      <td>...</td>\n",
       "      <td>0.0</td>\n",
       "      <td>0.0</td>\n",
       "      <td>0.0</td>\n",
       "      <td>0.0</td>\n",
       "      <td>0.0</td>\n",
       "      <td>0.0</td>\n",
       "      <td>0.0</td>\n",
       "      <td>0.0</td>\n",
       "      <td>0.0</td>\n",
       "      <td>0.0</td>\n",
       "    </tr>\n",
       "  </tbody>\n",
       "</table>\n",
       "<p>5 rows × 784 columns</p>\n",
       "</div>"
      ],
      "text/plain": [
       "   pixel1  pixel2  pixel3  pixel4  pixel5  pixel6  pixel7  pixel8  pixel9  \\\n",
       "0     0.0     0.0     0.0     0.0     0.0     0.0     0.0     0.0     0.0   \n",
       "1     0.0     0.0     0.0     0.0     0.0     0.0     0.0     0.0     0.0   \n",
       "2     0.0     0.0     0.0     0.0     0.0     0.0     0.0     0.0     0.0   \n",
       "3     0.0     0.0     0.0     0.0     0.0     0.0     0.0     0.0     0.0   \n",
       "4     0.0     0.0     0.0     0.0     0.0     0.0     0.0     0.0     0.0   \n",
       "\n",
       "   pixel10  ...  pixel775  pixel776  pixel777  pixel778  pixel779  pixel780  \\\n",
       "0      0.0  ...       0.0       0.0       0.0       0.0       0.0       0.0   \n",
       "1      0.0  ...       0.0       0.0       0.0       0.0       0.0       0.0   \n",
       "2      0.0  ...       0.0       0.0       0.0       0.0       0.0       0.0   \n",
       "3      0.0  ...       0.0       0.0       0.0       0.0       0.0       0.0   \n",
       "4      0.0  ...       0.0       0.0       0.0       0.0       0.0       0.0   \n",
       "\n",
       "   pixel781  pixel782  pixel783  pixel784  \n",
       "0       0.0       0.0       0.0       0.0  \n",
       "1       0.0       0.0       0.0       0.0  \n",
       "2       0.0       0.0       0.0       0.0  \n",
       "3       0.0       0.0       0.0       0.0  \n",
       "4       0.0       0.0       0.0       0.0  \n",
       "\n",
       "[5 rows x 784 columns]"
      ]
     },
     "execution_count": 5,
     "metadata": {},
     "output_type": "execute_result"
    }
   ],
   "source": [
    "x.head()"
   ]
  },
  {
   "cell_type": "code",
   "execution_count": 6,
   "id": "28b5c421",
   "metadata": {},
   "outputs": [
    {
     "data": {
      "text/plain": [
       "0    5\n",
       "1    0\n",
       "2    4\n",
       "3    1\n",
       "4    9\n",
       "Name: class, dtype: category\n",
       "Categories (10, object): ['0', '1', '2', '3', ..., '6', '7', '8', '9']"
      ]
     },
     "execution_count": 6,
     "metadata": {},
     "output_type": "execute_result"
    }
   ],
   "source": [
    "y.head()"
   ]
  },
  {
   "cell_type": "markdown",
   "id": "5382103d",
   "metadata": {},
   "source": [
    "Each image is 28×28 pixels, and each feature simply represents one pixel’s intensity, from 0 (white) to 255 (black)"
   ]
  },
  {
   "cell_type": "code",
   "execution_count": 7,
   "id": "24a21f78",
   "metadata": {},
   "outputs": [
    {
     "data": {
      "image/png": "[encoded data removed]",
      "text/plain": [
       "<Figure size 432x288 with 1 Axes>"
      ]
     },
     "metadata": {
      "needs_background": "light"
     },
     "output_type": "display_data"
    }
   ],
   "source": [
    "#To view a digit from the dataset, we will be using matplotlib's imshow() function\n",
    "\n",
    "import matplotlib as mpl\n",
    "import matplotlib.pyplot as plt\n",
    "\n",
    "some_digit = x.iloc[2].to_numpy()\n",
    "some_digit_image = some_digit.reshape(28,28)\n",
    "\n",
    "plt.imshow(some_digit_image, cmap = mpl.cm.binary, interpolation = 'nearest')\n",
    "plt.axis('off')\n",
    "plt.show()"
   ]
  },
  {
   "cell_type": "code",
   "execution_count": 8,
   "id": "852b2266",
   "metadata": {},
   "outputs": [
    {
     "data": {
      "text/plain": [
       "'4'"
      ]
     },
     "execution_count": 8,
     "metadata": {},
     "output_type": "execute_result"
    }
   ],
   "source": [
    "y[2]"
   ]
  },
  {
   "cell_type": "code",
   "execution_count": 9,
   "id": "b27abb31",
   "metadata": {},
   "outputs": [
    {
     "data": {
      "text/plain": [
       "dtype('int32')"
      ]
     },
     "execution_count": 9,
     "metadata": {},
     "output_type": "execute_result"
    }
   ],
   "source": [
    "#because the label is a string, let's cast y to integers\n",
    "y = y.astype(int)\n",
    "y.dtype"
   ]
  },
  {
   "cell_type": "markdown",
   "id": "99c66a55",
   "metadata": {},
   "source": [
    "## Set aside a train and test data\n",
    "- MNIST is already split into a training and test set"
   ]
  },
  {
   "cell_type": "code",
   "execution_count": 10,
   "id": "a5d9aef7",
   "metadata": {},
   "outputs": [],
   "source": [
    "x_train, x_test, y_train, y_test = x[:60000], x[:10000], y[:60000], y[:10000]"
   ]
  },
  {
   "cell_type": "markdown",
   "id": "8acb0537",
   "metadata": {},
   "source": [
    "## Using Convolutional Neural Networks"
   ]
  },
  {
   "cell_type": "code",
   "execution_count": null,
   "id": "af717414",
   "metadata": {},
   "outputs": [],
   "source": [
    "from tensorflow.keras.models import Sequential\n",
    "from tensorflow.keras.layers import Dropout,Reshape, Dense, Flatten, Conv2D, MaxPooling2D\n",
    "from tensorflow.keras.models import Model\n",
    "from tensorflow.keras.preprocessing.image import *"
   ]
  },
  {
   "cell_type": "markdown",
   "id": "a06f1c38",
   "metadata": {},
   "source": [
    "- initiate sequential class since there are various layers to build CNN which must all be in sequence \n",
    "- add the first convolutional layer\n",
    "- apply pooling operation to reduce the dimensions of the feature maps. reduces the number of parametes to learn and reduces computation in the neural network\n",
    "- apply the dropout technique to prevent overfitting\n",
    "- Flatten to convert the dataset into a 1D array for input into the next layer.\n",
    "- use a dense class to create a fully connected layer and output layer\n",
    "- softmax is used for the output layer to bring the output of the neural network to a probability distribution over predicting classes"
   ]
  },
  {
   "cell_type": "code",
   "execution_count": 72,
   "id": "e97366b3",
   "metadata": {},
   "outputs": [],
   "source": [
    "#intializing CNN and adding a convolutional layer\n",
    "\n",
    "model = Sequential()\n",
    "model.add(Reshape((28,28,1), input_shape = x.shape[1:]))\n",
    "model.add(Conv2D(filters = 8, kernel_size = 3, activation = 'relu'))\n",
    "model.add(MaxPooling2D(pool_size = 2))\n",
    "model.add(Dropout(rate = 0.25))\n",
    "\n",
    "#add two convolutional layer\n",
    "model.add(Conv2D(filters = 16, kernel_size =3, activation = 'relu'))\n",
    "model.add(MaxPooling2D(pool_size = 2))\n",
    "model.add(Conv2D(filters = 32 , kernel_size = 3, activation ='relu'))\n",
    "model.add(MaxPooling2D(pool_size = 2))\n",
    "model.add(Dropout(rate = 0.25))\n",
    "\n",
    "model.add(Flatten())\n",
    "model.add(Dense(64, activation = 'relu'))\n",
    "model.add(Dropout(rate = 0.5))\n",
    "model.add(Dense(10, activation = 'softmax'))"
   ]
  },
  {
   "cell_type": "code",
   "execution_count": 73,
   "id": "0796c011",
   "metadata": {},
   "outputs": [],
   "source": [
    "#compile the model\n",
    "model.compile(loss = 'sparse_categorical_crossentropy', optimizer = 'adam', metrics = ['accuracy'])"
   ]
  },
  {
   "cell_type": "code",
   "execution_count": 74,
   "id": "f7cf2bbe",
   "metadata": {},
   "outputs": [
    {
     "name": "stdout",
     "output_type": "stream",
     "text": [
      "Model: \"sequential_20\"\n",
      "_________________________________________________________________\n",
      " Layer (type)                Output Shape              Param #   \n",
      "=================================================================\n",
      " reshape_9 (Reshape)         (None, 28, 28, 1)         0         \n",
      "                                                                 \n",
      " conv2d_33 (Conv2D)          (None, 26, 26, 8)         80        \n",
      "                                                                 \n",
      " max_pooling2d_26 (MaxPoolin  (None, 13, 13, 8)        0         \n",
      " g2D)                                                            \n",
      "                                                                 \n",
      " dropout_25 (Dropout)        (None, 13, 13, 8)         0         \n",
      "                                                                 \n",
      " conv2d_34 (Conv2D)          (None, 11, 11, 16)        1168      \n",
      "                                                                 \n",
      " max_pooling2d_27 (MaxPoolin  (None, 5, 5, 16)         0         \n",
      " g2D)                                                            \n",
      "                                                                 \n",
      " conv2d_35 (Conv2D)          (None, 3, 3, 32)          4640      \n",
      "                                                                 \n",
      " max_pooling2d_28 (MaxPoolin  (None, 1, 1, 32)         0         \n",
      " g2D)                                                            \n",
      "                                                                 \n",
      " dropout_26 (Dropout)        (None, 1, 1, 32)          0         \n",
      "                                                                 \n",
      " flatten_8 (Flatten)         (None, 32)                0         \n",
      "                                                                 \n",
      " dense_16 (Dense)            (None, 64)                2112      \n",
      "                                                                 \n",
      " dropout_27 (Dropout)        (None, 64)                0         \n",
      "                                                                 \n",
      " dense_17 (Dense)            (None, 10)                650       \n",
      "                                                                 \n",
      "=================================================================\n",
      "Total params: 8,650\n",
      "Trainable params: 8,650\n",
      "Non-trainable params: 0\n",
      "_________________________________________________________________\n"
     ]
    }
   ],
   "source": [
    "#model summary\n",
    "model.summary()"
   ]
  },
  {
   "cell_type": "code",
   "execution_count": 75,
   "id": "0368677e",
   "metadata": {
    "scrolled": true
   },
   "outputs": [
    {
     "name": "stdout",
     "output_type": "stream",
     "text": [
      "Epoch 1/50\n",
      "1875/1875 [==============================] - 163s 51ms/step - loss: 2.3398 - accuracy: 0.2121\n",
      "Epoch 2/50\n",
      "1875/1875 [==============================] - 71s 38ms/step - loss: 1.5535 - accuracy: 0.4253\n",
      "Epoch 3/50\n",
      "1875/1875 [==============================] - 117s 62ms/step - loss: 0.8893 - accuracy: 0.7114\n",
      "Epoch 4/50\n",
      "1875/1875 [==============================] - 106s 56ms/step - loss: 0.6885 - accuracy: 0.7889\n",
      "Epoch 5/50\n",
      "1875/1875 [==============================] - 93s 50ms/step - loss: 0.5825 - accuracy: 0.8261\n",
      "Epoch 6/50\n",
      "1875/1875 [==============================] - 132s 71ms/step - loss: 0.5057 - accuracy: 0.8540\n",
      "Epoch 7/50\n",
      "1875/1875 [==============================] - 99s 53ms/step - loss: 0.4523 - accuracy: 0.8710\n",
      "Epoch 8/50\n",
      "1875/1875 [==============================] - 114s 61ms/step - loss: 0.4198 - accuracy: 0.8808\n",
      "Epoch 9/50\n",
      "1875/1875 [==============================] - 96s 51ms/step - loss: 0.3885 - accuracy: 0.8893\n",
      "Epoch 10/50\n",
      "1875/1875 [==============================] - 105s 56ms/step - loss: 0.3685 - accuracy: 0.8966\n",
      "Epoch 11/50\n",
      "1875/1875 [==============================] - 208s 111ms/step - loss: 0.3481 - accuracy: 0.9025\n",
      "Epoch 12/50\n",
      "1875/1875 [==============================] - 164s 88ms/step - loss: 0.3333 - accuracy: 0.9066\n",
      "Epoch 13/50\n",
      "1875/1875 [==============================] - 190s 101ms/step - loss: 0.3372 - accuracy: 0.9067\n",
      "Epoch 14/50\n",
      "1875/1875 [==============================] - 189s 101ms/step - loss: 0.3210 - accuracy: 0.9112\n",
      "Epoch 15/50\n",
      "1875/1875 [==============================] - 128s 68ms/step - loss: 0.3161 - accuracy: 0.9126\n",
      "Epoch 16/50\n",
      "1875/1875 [==============================] - 153s 81ms/step - loss: 0.3117 - accuracy: 0.9129\n",
      "Epoch 17/50\n",
      "1875/1875 [==============================] - 189s 101ms/step - loss: 0.3008 - accuracy: 0.9183\n",
      "Epoch 18/50\n",
      "1875/1875 [==============================] - 97s 52ms/step - loss: 0.2924 - accuracy: 0.9173\n",
      "Epoch 19/50\n",
      "1875/1875 [==============================] - 123s 65ms/step - loss: 0.2941 - accuracy: 0.9174\n",
      "Epoch 20/50\n",
      "1875/1875 [==============================] - 112s 60ms/step - loss: 0.2859 - accuracy: 0.9202\n",
      "Epoch 21/50\n",
      "1875/1875 [==============================] - 158s 85ms/step - loss: 0.2891 - accuracy: 0.9191\n",
      "Epoch 22/50\n",
      "1875/1875 [==============================] - 148s 79ms/step - loss: 0.2812 - accuracy: 0.9215\n",
      "Epoch 23/50\n",
      "1875/1875 [==============================] - 136s 72ms/step - loss: 0.2811 - accuracy: 0.9209\n",
      "Epoch 24/50\n",
      "1875/1875 [==============================] - 98s 53ms/step - loss: 0.2727 - accuracy: 0.9249\n",
      "Epoch 25/50\n",
      "1875/1875 [==============================] - 92s 49ms/step - loss: 0.2731 - accuracy: 0.9234\n",
      "Epoch 26/50\n",
      "1875/1875 [==============================] - 78s 41ms/step - loss: 0.2734 - accuracy: 0.9236\n",
      "Epoch 27/50\n",
      "1875/1875 [==============================] - 162s 86ms/step - loss: 0.2722 - accuracy: 0.9255\n",
      "Epoch 28/50\n",
      "1875/1875 [==============================] - 90s 48ms/step - loss: 0.2723 - accuracy: 0.9249\n",
      "Epoch 29/50\n",
      "1875/1875 [==============================] - 148s 79ms/step - loss: 0.2723 - accuracy: 0.9240\n",
      "Epoch 30/50\n",
      "1875/1875 [==============================] - 197s 105ms/step - loss: 0.2615 - accuracy: 0.9272\n",
      "Epoch 31/50\n",
      "1875/1875 [==============================] - 136s 73ms/step - loss: 0.2665 - accuracy: 0.9257\n",
      "Epoch 32/50\n",
      "1875/1875 [==============================] - 98s 52ms/step - loss: 0.2626 - accuracy: 0.9263\n",
      "Epoch 33/50\n",
      "1875/1875 [==============================] - 75s 40ms/step - loss: 0.2616 - accuracy: 0.9279\n",
      "Epoch 34/50\n",
      "1875/1875 [==============================] - 86s 46ms/step - loss: 0.2622 - accuracy: 0.9282\n",
      "Epoch 35/50\n",
      "1875/1875 [==============================] - 87s 47ms/step - loss: 0.2641 - accuracy: 0.9287\n",
      "Epoch 36/50\n",
      "1875/1875 [==============================] - 96s 51ms/step - loss: 0.2598 - accuracy: 0.9271\n",
      "Epoch 37/50\n",
      "1875/1875 [==============================] - 66s 35ms/step - loss: 0.2592 - accuracy: 0.9297\n",
      "Epoch 38/50\n",
      "1875/1875 [==============================] - 66s 35ms/step - loss: 0.2537 - accuracy: 0.9296\n",
      "Epoch 39/50\n",
      "1875/1875 [==============================] - 61s 33ms/step - loss: 0.2625 - accuracy: 0.9289\n",
      "Epoch 40/50\n",
      "1875/1875 [==============================] - 61s 32ms/step - loss: 0.2554 - accuracy: 0.9307\n",
      "Epoch 41/50\n",
      "1875/1875 [==============================] - 62s 33ms/step - loss: 0.2524 - accuracy: 0.9308\n",
      "Epoch 42/50\n",
      "1875/1875 [==============================] - 71s 38ms/step - loss: 0.2606 - accuracy: 0.9284\n",
      "Epoch 43/50\n",
      "1875/1875 [==============================] - 66s 35ms/step - loss: 0.2540 - accuracy: 0.9321\n",
      "Epoch 44/50\n",
      "1875/1875 [==============================] - 61s 33ms/step - loss: 0.2513 - accuracy: 0.9293\n",
      "Epoch 45/50\n",
      "1875/1875 [==============================] - 64s 34ms/step - loss: 0.2552 - accuracy: 0.9292\n",
      "Epoch 46/50\n",
      "1875/1875 [==============================] - 64s 34ms/step - loss: 0.2537 - accuracy: 0.9305\n",
      "Epoch 47/50\n",
      "1875/1875 [==============================] - 62s 33ms/step - loss: 0.2535 - accuracy: 0.9320\n",
      "Epoch 48/50\n",
      "1875/1875 [==============================] - 60s 32ms/step - loss: 0.2520 - accuracy: 0.9304\n",
      "Epoch 49/50\n",
      "1875/1875 [==============================] - 54s 29ms/step - loss: 0.2487 - accuracy: 0.9325\n",
      "Epoch 50/50\n",
      "1875/1875 [==============================] - 54s 29ms/step - loss: 0.2499 - accuracy: 0.9327\n"
     ]
    },
    {
     "data": {
      "text/plain": [
       "<keras.callbacks.History at 0x247657b7550>"
      ]
     },
     "execution_count": 75,
     "metadata": {},
     "output_type": "execute_result"
    }
   ],
   "source": [
    "#fit the model on the training set\n",
    "model.fit(x_train, y_train, epochs = 50)"
   ]
  },
  {
   "cell_type": "code",
   "execution_count": 80,
   "id": "b6beb953",
   "metadata": {},
   "outputs": [],
   "source": [
    "np.set_printoptions(formatter = {'float': '{:0.2f}'.format})"
   ]
  },
  {
   "cell_type": "code",
   "execution_count": 90,
   "id": "e67e0f31",
   "metadata": {},
   "outputs": [
    {
     "name": "stdout",
     "output_type": "stream",
     "text": [
      "313/313 [==============================] - 7s 23ms/step\n"
     ]
    },
    {
     "data": {
      "text/plain": [
       "[5, 0, 4, 1, 9, 2, 1, 3, 1, 4]"
      ]
     },
     "execution_count": 90,
     "metadata": {},
     "output_type": "execute_result"
    }
   ],
   "source": [
    "#predictions\n",
    "pred = model.predict(x_test)\n",
    "y_pred = [np.argmax(pred[i]) for i in range(len(pred))]\n",
    "y_pred[:10]"
   ]
  },
  {
   "cell_type": "code",
   "execution_count": 91,
   "id": "a337055a",
   "metadata": {
    "scrolled": true
   },
   "outputs": [
    {
     "name": "stdout",
     "output_type": "stream",
     "text": [
      "0    5\n",
      "1    0\n",
      "2    4\n",
      "3    1\n",
      "4    9\n",
      "5    2\n",
      "6    1\n",
      "7    3\n",
      "8    1\n",
      "9    4\n",
      "Name: class, dtype: int32\n"
     ]
    }
   ],
   "source": [
    "print(y_test[:10])"
   ]
  },
  {
   "cell_type": "code",
   "execution_count": 129,
   "id": "3fa98746",
   "metadata": {
    "scrolled": true
   },
   "outputs": [
    {
     "data": {
      "image/png": "[encoded data removed]",
      "text/plain": [
       "<Figure size 720x720 with 9 Axes>"
      ]
     },
     "metadata": {
      "needs_background": "light"
     },
     "output_type": "display_data"
    }
   ],
   "source": [
    "#Visualising predictions\n",
    "y_list = list(y_test)\n",
    "\n",
    "plt.figure(figsize = (10,10))\n",
    "for i in range(9):\n",
    "    plt.subplot(3,3, i+1)\n",
    "    some_val = x_test.iloc[i].to_numpy()\n",
    "    some_val_image = some_val.reshape(28,28)\n",
    "    plt.imshow(some_val_image, cmap = mpl.cm.binary)\n",
    "    plt.subplots_adjust(bottom = 0.1, right = 0.8, top = 0.9)\n",
    "    plt.title(f'Real Value: {y_list[i]} \\n'+ f'Predicted Value: {y_pred[i]}')"
   ]
  },
  {
   "cell_type": "code",
   "execution_count": null,
   "id": "f633f557",
   "metadata": {},
   "outputs": [],
   "source": []
  }
 ],
 "metadata": {
  "kernelspec": {
   "display_name": "Python 3 (ipykernel)",
   "language": "python",
   "name": "python3"
  },
  "language_info": {
   "codemirror_mode": {
    "name": "ipython",
    "version": 3
   },
   "file_extension": ".py",
   "mimetype": "text/x-python",
   "name": "python",
   "nbconvert_exporter": "python",
   "pygments_lexer": "ipython3",
   "version": "3.9.7"
  }
 },
 "nbformat": 4,
 "nbformat_minor": 5
}
