{
 "cells": [
  {
   "cell_type": "markdown",
   "id": "c3615e4a",
   "metadata": {},
   "source": [
    "## Fetch and Load data"
   ]
  },
  {
   "cell_type": "code",
   "execution_count": 1,
   "id": "d1d2d943",
   "metadata": {},
   "outputs": [
    {
     "name": "stderr",
     "output_type": "stream",
     "text": [
      "C:\\Users\\Mary\\anaconda3\\lib\\site-packages\\sklearn\\datasets\\_openml.py:932: FutureWarning: The default value of `parser` will change from `'liac-arff'` to `'auto'` in 1.4. You can set `parser='auto'` to silence this warning. Therefore, an `ImportError` will be raised from 1.4 if the dataset is dense and pandas is not installed. Note that the pandas parser may return different data types. See the Notes Section in fetch_openml's API doc for details.\n",
      "  warn(\n"
     ]
    },
    {
     "data": {
      "text/plain": [
       "dict_keys(['data', 'target', 'frame', 'categories', 'feature_names', 'target_names', 'DESCR', 'details', 'url'])"
      ]
     },
     "execution_count": 1,
     "metadata": {},
     "output_type": "execute_result"
    }
   ],
   "source": [
    "#fetch MNIST dataset using sci-kit learn\n",
    "from sklearn.datasets import fetch_openml\n",
    "mnist = fetch_openml('mnist_784',version = 1)\n",
    "mnist.keys()"
   ]
  },
  {
   "cell_type": "markdown",
   "id": "b313f0db",
   "metadata": {},
   "source": [
    "#alternatively load data from keras\n",
    "from keras.datasets import mnist\n",
    "(x_train, y_train), (x_test, y_test) = mnist.load_data()"
   ]
  },
  {
   "cell_type": "code",
   "execution_count": 2,
   "id": "44636654",
   "metadata": {
    "scrolled": true
   },
   "outputs": [],
   "source": [
    "import pandas as pd\n",
    "import numpy as np\n",
    "x , y= mnist['data'], mnist['target']"
   ]
  },
  {
   "cell_type": "code",
   "execution_count": 3,
   "id": "eeeb15a1",
   "metadata": {
    "scrolled": true
   },
   "outputs": [
    {
     "name": "stdout",
     "output_type": "stream",
     "text": [
      "(70000, 784) (70000,)\n"
     ]
    }
   ],
   "source": [
    "print(x.shape, y.shape)"
   ]
  },
  {
   "cell_type": "code",
   "execution_count": 4,
   "id": "1bd747a6",
   "metadata": {},
   "outputs": [
    {
     "data": {
      "text/html": [
       "<div>\n",
       "<style scoped>\n",
       "    .dataframe tbody tr th:only-of-type {\n",
       "        vertical-align: middle;\n",
       "    }\n",
       "\n",
       "    .dataframe tbody tr th {\n",
       "        vertical-align: top;\n",
       "    }\n",
       "\n",
       "    .dataframe thead th {\n",
       "        text-align: right;\n",
       "    }\n",
       "</style>\n",
       "<table border=\"1\" class=\"dataframe\">\n",
       "  <thead>\n",
       "    <tr style=\"text-align: right;\">\n",
       "      <th></th>\n",
       "      <th>pixel1</th>\n",
       "      <th>pixel2</th>\n",
       "      <th>pixel3</th>\n",
       "      <th>pixel4</th>\n",
       "      <th>pixel5</th>\n",
       "      <th>pixel6</th>\n",
       "      <th>pixel7</th>\n",
       "      <th>pixel8</th>\n",
       "      <th>pixel9</th>\n",
       "      <th>pixel10</th>\n",
       "      <th>...</th>\n",
       "      <th>pixel775</th>\n",
       "      <th>pixel776</th>\n",
       "      <th>pixel777</th>\n",
       "      <th>pixel778</th>\n",
       "      <th>pixel779</th>\n",
       "      <th>pixel780</th>\n",
       "      <th>pixel781</th>\n",
       "      <th>pixel782</th>\n",
       "      <th>pixel783</th>\n",
       "      <th>pixel784</th>\n",
       "    </tr>\n",
       "  </thead>\n",
       "  <tbody>\n",
       "    <tr>\n",
       "      <th>0</th>\n",
       "      <td>0.0</td>\n",
       "      <td>0.0</td>\n",
       "      <td>0.0</td>\n",
       "      <td>0.0</td>\n",
       "      <td>0.0</td>\n",
       "      <td>0.0</td>\n",
       "      <td>0.0</td>\n",
       "      <td>0.0</td>\n",
       "      <td>0.0</td>\n",
       "      <td>0.0</td>\n",
       "      <td>...</td>\n",
       "      <td>0.0</td>\n",
       "      <td>0.0</td>\n",
       "      <td>0.0</td>\n",
       "      <td>0.0</td>\n",
       "      <td>0.0</td>\n",
       "      <td>0.0</td>\n",
       "      <td>0.0</td>\n",
       "      <td>0.0</td>\n",
       "      <td>0.0</td>\n",
       "      <td>0.0</td>\n",
       "    </tr>\n",
       "    <tr>\n",
       "      <th>1</th>\n",
       "      <td>0.0</td>\n",
       "      <td>0.0</td>\n",
       "      <td>0.0</td>\n",
       "      <td>0.0</td>\n",
       "      <td>0.0</td>\n",
       "      <td>0.0</td>\n",
       "      <td>0.0</td>\n",
       "      <td>0.0</td>\n",
       "      <td>0.0</td>\n",
       "      <td>0.0</td>\n",
       "      <td>...</td>\n",
       "      <td>0.0</td>\n",
       "      <td>0.0</td>\n",
       "      <td>0.0</td>\n",
       "      <td>0.0</td>\n",
       "      <td>0.0</td>\n",
       "      <td>0.0</td>\n",
       "      <td>0.0</td>\n",
       "      <td>0.0</td>\n",
       "      <td>0.0</td>\n",
       "      <td>0.0</td>\n",
       "    </tr>\n",
       "    <tr>\n",
       "      <th>2</th>\n",
       "      <td>0.0</td>\n",
       "      <td>0.0</td>\n",
       "      <td>0.0</td>\n",
       "      <td>0.0</td>\n",
       "      <td>0.0</td>\n",
       "      <td>0.0</td>\n",
       "      <td>0.0</td>\n",
       "      <td>0.0</td>\n",
       "      <td>0.0</td>\n",
       "      <td>0.0</td>\n",
       "      <td>...</td>\n",
       "      <td>0.0</td>\n",
       "      <td>0.0</td>\n",
       "      <td>0.0</td>\n",
       "      <td>0.0</td>\n",
       "      <td>0.0</td>\n",
       "      <td>0.0</td>\n",
       "      <td>0.0</td>\n",
       "      <td>0.0</td>\n",
       "      <td>0.0</td>\n",
       "      <td>0.0</td>\n",
       "    </tr>\n",
       "    <tr>\n",
       "      <th>3</th>\n",
       "      <td>0.0</td>\n",
       "      <td>0.0</td>\n",
       "      <td>0.0</td>\n",
       "      <td>0.0</td>\n",
       "      <td>0.0</td>\n",
       "      <td>0.0</td>\n",
       "      <td>0.0</td>\n",
       "      <td>0.0</td>\n",
       "      <td>0.0</td>\n",
       "      <td>0.0</td>\n",
       "      <td>...</td>\n",
       "      <td>0.0</td>\n",
       "      <td>0.0</td>\n",
       "      <td>0.0</td>\n",
       "      <td>0.0</td>\n",
       "      <td>0.0</td>\n",
       "      <td>0.0</td>\n",
       "      <td>0.0</td>\n",
       "      <td>0.0</td>\n",
       "      <td>0.0</td>\n",
       "      <td>0.0</td>\n",
       "    </tr>\n",
       "    <tr>\n",
       "      <th>4</th>\n",
       "      <td>0.0</td>\n",
       "      <td>0.0</td>\n",
       "      <td>0.0</td>\n",
       "      <td>0.0</td>\n",
       "      <td>0.0</td>\n",
       "      <td>0.0</td>\n",
       "      <td>0.0</td>\n",
       "      <td>0.0</td>\n",
       "      <td>0.0</td>\n",
       "      <td>0.0</td>\n",
       "      <td>...</td>\n",
       "      <td>0.0</td>\n",
       "      <td>0.0</td>\n",
       "      <td>0.0</td>\n",
       "      <td>0.0</td>\n",
       "      <td>0.0</td>\n",
       "      <td>0.0</td>\n",
       "      <td>0.0</td>\n",
       "      <td>0.0</td>\n",
       "      <td>0.0</td>\n",
       "      <td>0.0</td>\n",
       "    </tr>\n",
       "  </tbody>\n",
       "</table>\n",
       "<p>5 rows × 784 columns</p>\n",
       "</div>"
      ],
      "text/plain": [
       "   pixel1  pixel2  pixel3  pixel4  pixel5  pixel6  pixel7  pixel8  pixel9  \\\n",
       "0     0.0     0.0     0.0     0.0     0.0     0.0     0.0     0.0     0.0   \n",
       "1     0.0     0.0     0.0     0.0     0.0     0.0     0.0     0.0     0.0   \n",
       "2     0.0     0.0     0.0     0.0     0.0     0.0     0.0     0.0     0.0   \n",
       "3     0.0     0.0     0.0     0.0     0.0     0.0     0.0     0.0     0.0   \n",
       "4     0.0     0.0     0.0     0.0     0.0     0.0     0.0     0.0     0.0   \n",
       "\n",
       "   pixel10  ...  pixel775  pixel776  pixel777  pixel778  pixel779  pixel780  \\\n",
       "0      0.0  ...       0.0       0.0       0.0       0.0       0.0       0.0   \n",
       "1      0.0  ...       0.0       0.0       0.0       0.0       0.0       0.0   \n",
       "2      0.0  ...       0.0       0.0       0.0       0.0       0.0       0.0   \n",
       "3      0.0  ...       0.0       0.0       0.0       0.0       0.0       0.0   \n",
       "4      0.0  ...       0.0       0.0       0.0       0.0       0.0       0.0   \n",
       "\n",
       "   pixel781  pixel782  pixel783  pixel784  \n",
       "0       0.0       0.0       0.0       0.0  \n",
       "1       0.0       0.0       0.0       0.0  \n",
       "2       0.0       0.0       0.0       0.0  \n",
       "3       0.0       0.0       0.0       0.0  \n",
       "4       0.0       0.0       0.0       0.0  \n",
       "\n",
       "[5 rows x 784 columns]"
      ]
     },
     "execution_count": 4,
     "metadata": {},
     "output_type": "execute_result"
    }
   ],
   "source": [
    "x.head()"
   ]
  },
  {
   "cell_type": "code",
   "execution_count": 6,
   "id": "28b5c421",
   "metadata": {},
   "outputs": [
    {
     "data": {
      "text/plain": [
       "0    5\n",
       "1    0\n",
       "2    4\n",
       "3    1\n",
       "4    9\n",
       "Name: class, dtype: category\n",
       "Categories (10, object): ['0', '1', '2', '3', ..., '6', '7', '8', '9']"
      ]
     },
     "execution_count": 6,
     "metadata": {},
     "output_type": "execute_result"
    }
   ],
   "source": [
    "y.head()"
   ]
  },
  {
   "cell_type": "markdown",
   "id": "5382103d",
   "metadata": {},
   "source": [
    "Each image is 28×28 pixels, and each feature simply represents one pixel’s intensity, from 0 (white) to 255 (black)"
   ]
  },
  {
   "cell_type": "code",
   "execution_count": 7,
   "id": "24a21f78",
   "metadata": {},
   "outputs": [
    {
     "data": {
      "image/png": "[encoded data removed]",
      "text/plain": [
       "<Figure size 432x288 with 1 Axes>"
      ]
     },
     "metadata": {
      "needs_background": "light"
     },
     "output_type": "display_data"
    }
   ],
   "source": [
    "#To view a digit from the dataset, we will be using matplotlib's imshow() function\n",
    "\n",
    "import matplotlib as mpl\n",
    "import matplotlib.pyplot as plt\n",
    "\n",
    "some_digit = x.iloc[2].to_numpy()\n",
    "some_digit_image = some_digit.reshape(28,28)\n",
    "\n",
    "plt.imshow(some_digit_image, cmap = mpl.cm.binary, interpolation = 'nearest')\n",
    "plt.axis('off')\n",
    "plt.show()"
   ]
  },
  {
   "cell_type": "code",
   "execution_count": 8,
   "id": "852b2266",
   "metadata": {},
   "outputs": [
    {
     "data": {
      "text/plain": [
       "'4'"
      ]
     },
     "execution_count": 8,
     "metadata": {},
     "output_type": "execute_result"
    }
   ],
   "source": [
    "y[2]"
   ]
  },
  {
   "cell_type": "code",
   "execution_count": 9,
   "id": "b27abb31",
   "metadata": {},
   "outputs": [
    {
     "data": {
      "text/plain": [
       "dtype('int32')"
      ]
     },
     "execution_count": 9,
     "metadata": {},
     "output_type": "execute_result"
    }
   ],
   "source": [
    "#because the label is a string, let's cast y to integers\n",
    "y = y.astype(int)\n",
    "y.dtype"
   ]
  },
  {
   "cell_type": "markdown",
   "id": "99c66a55",
   "metadata": {},
   "source": [
    "## Set aside a train and test data\n",
    "- MNIST is already split into a training and test set"
   ]
  },
  {
   "cell_type": "code",
   "execution_count": 10,
   "id": "a5d9aef7",
   "metadata": {},
   "outputs": [],
   "source": [
    "x_train, x_test, y_train, y_test = x[:60000], x[:10000], y[:60000], y[:10000]"
   ]
  },
  {
   "cell_type": "markdown",
   "id": "8acb0537",
   "metadata": {},
   "source": [
    "## Using Convolutional Neural Networks"
   ]
  },
  {
   "cell_type": "code",
   "execution_count": 11,
   "id": "af717414",
   "metadata": {},
   "outputs": [],
   "source": [
    "from tensorflow.keras.models import Sequential\n",
    "from tensorflow.keras.layers import Dropout,Reshape, Dense, Flatten, Conv2D, MaxPooling2D\n",
    "from tensorflow.keras.models import Model\n",
    "from tensorflow.keras.preprocessing.image import *"
   ]
  },
  {
   "cell_type": "markdown",
   "id": "a06f1c38",
   "metadata": {},
   "source": [
    "- initiate sequential class since there are various layers to build CNN which must all be in sequence \n",
    "- add the first convolutional layer\n",
    "- apply pooling operation to reduce the dimensions of the feature maps. reduces the number of parametes to learn and reduces computation in the neural network\n",
    "- apply the dropout technique to prevent overfitting\n",
    "- Flatten to convert the dataset into a 1D array for input into the next layer.\n",
    "- use a dense class to create a fully connected layer and output layer\n",
    "- softmax is used for the output layer to bring the output of the neural network to a probability distribution over predicting classes"
   ]
  },
  {
   "cell_type": "code",
   "execution_count": 12,
   "id": "e97366b3",
   "metadata": {},
   "outputs": [],
   "source": [
    "#intializing CNN and adding a convolutional layer\n",
    "\n",
    "model = Sequential()\n",
    "model.add(Reshape((28,28,1), input_shape = x.shape[1:]))\n",
    "model.add(Conv2D(filters = 8, kernel_size = 3, activation = 'relu'))\n",
    "model.add(MaxPooling2D(pool_size = 2))\n",
    "model.add(Dropout(rate = 0.25))\n",
    "\n",
    "#add two convolutional layer\n",
    "model.add(Conv2D(filters = 16, kernel_size =3, activation = 'relu'))\n",
    "model.add(MaxPooling2D(pool_size = 2))\n",
    "model.add(Conv2D(filters = 32 , kernel_size = 3, activation ='relu'))\n",
    "model.add(MaxPooling2D(pool_size = 2))\n",
    "model.add(Dropout(rate = 0.25))\n",
    "\n",
    "model.add(Flatten())\n",
    "model.add(Dense(64, activation = 'relu'))\n",
    "model.add(Dropout(rate = 0.5))\n",
    "model.add(Dense(10, activation = 'softmax'))"
   ]
  },
  {
   "cell_type": "code",
   "execution_count": 13,
   "id": "0796c011",
   "metadata": {},
   "outputs": [],
   "source": [
    "#compile the model\n",
    "model.compile(loss = 'sparse_categorical_crossentropy', optimizer = 'adam', metrics = ['accuracy'])"
   ]
  },
  {
   "cell_type": "code",
   "execution_count": 14,
   "id": "f7cf2bbe",
   "metadata": {},
   "outputs": [
    {
     "name": "stdout",
     "output_type": "stream",
     "text": [
      "Model: \"sequential\"\n",
      "_________________________________________________________________\n",
      " Layer (type)                Output Shape              Param #   \n",
      "=================================================================\n",
      " reshape (Reshape)           (None, 28, 28, 1)         0         \n",
      "                                                                 \n",
      " conv2d (Conv2D)             (None, 26, 26, 8)         80        \n",
      "                                                                 \n",
      " max_pooling2d (MaxPooling2D  (None, 13, 13, 8)        0         \n",
      " )                                                               \n",
      "                                                                 \n",
      " dropout (Dropout)           (None, 13, 13, 8)         0         \n",
      "                                                                 \n",
      " conv2d_1 (Conv2D)           (None, 11, 11, 16)        1168      \n",
      "                                                                 \n",
      " max_pooling2d_1 (MaxPooling  (None, 5, 5, 16)         0         \n",
      " 2D)                                                             \n",
      "                                                                 \n",
      " conv2d_2 (Conv2D)           (None, 3, 3, 32)          4640      \n",
      "                                                                 \n",
      " max_pooling2d_2 (MaxPooling  (None, 1, 1, 32)         0         \n",
      " 2D)                                                             \n",
      "                                                                 \n",
      " dropout_1 (Dropout)         (None, 1, 1, 32)          0         \n",
      "                                                                 \n",
      " flatten (Flatten)           (None, 32)                0         \n",
      "                                                                 \n",
      " dense (Dense)               (None, 64)                2112      \n",
      "                                                                 \n",
      " dropout_2 (Dropout)         (None, 64)                0         \n",
      "                                                                 \n",
      " dense_1 (Dense)             (None, 10)                650       \n",
      "                                                                 \n",
      "=================================================================\n",
      "Total params: 8,650\n",
      "Trainable params: 8,650\n",
      "Non-trainable params: 0\n",
      "_________________________________________________________________\n"
     ]
    }
   ],
   "source": [
    "#model summary\n",
    "model.summary()"
   ]
  },
  {
   "cell_type": "code",
   "execution_count": 15,
   "id": "0368677e",
   "metadata": {
    "scrolled": true
   },
   "outputs": [
    {
     "name": "stdout",
     "output_type": "stream",
     "text": [
      "Epoch 1/50\n",
      "1875/1875 [==============================] - 63s 31ms/step - loss: 2.2031 - accuracy: 0.2906\n",
      "Epoch 2/50\n",
      "1875/1875 [==============================] - 59s 31ms/step - loss: 1.3174 - accuracy: 0.5497\n",
      "Epoch 3/50\n",
      "1875/1875 [==============================] - 73s 39ms/step - loss: 0.8861 - accuracy: 0.7192\n",
      "Epoch 4/50\n",
      "1875/1875 [==============================] - 70s 37ms/step - loss: 0.7175 - accuracy: 0.7720\n",
      "Epoch 5/50\n",
      "1875/1875 [==============================] - 62s 33ms/step - loss: 0.5851 - accuracy: 0.8124\n",
      "Epoch 6/50\n",
      "1875/1875 [==============================] - 60s 32ms/step - loss: 0.5131 - accuracy: 0.8348\n",
      "Epoch 7/50\n",
      "1875/1875 [==============================] - 60s 32ms/step - loss: 0.4638 - accuracy: 0.8520\n",
      "Epoch 8/50\n",
      "1875/1875 [==============================] - 60s 32ms/step - loss: 0.4267 - accuracy: 0.8671\n",
      "Epoch 9/50\n",
      "1875/1875 [==============================] - 51s 27ms/step - loss: 0.4094 - accuracy: 0.8764\n",
      "Epoch 10/50\n",
      "1875/1875 [==============================] - 50s 27ms/step - loss: 0.3905 - accuracy: 0.8824\n",
      "Epoch 11/50\n",
      "1875/1875 [==============================] - 49s 26ms/step - loss: 0.3683 - accuracy: 0.8911\n",
      "Epoch 12/50\n",
      "1875/1875 [==============================] - 50s 27ms/step - loss: 0.3458 - accuracy: 0.8986\n",
      "Epoch 13/50\n",
      "1875/1875 [==============================] - 50s 26ms/step - loss: 0.3285 - accuracy: 0.9050\n",
      "Epoch 14/50\n",
      "1875/1875 [==============================] - 50s 26ms/step - loss: 0.3261 - accuracy: 0.9059\n",
      "Epoch 15/50\n",
      "1875/1875 [==============================] - 1015s 542ms/step - loss: 0.3151 - accuracy: 0.9092\n",
      "Epoch 16/50\n",
      "1875/1875 [==============================] - 66s 35ms/step - loss: 0.3019 - accuracy: 0.9139\n",
      "Epoch 17/50\n",
      "1875/1875 [==============================] - 64s 34ms/step - loss: 0.2916 - accuracy: 0.9171\n",
      "Epoch 18/50\n",
      "1875/1875 [==============================] - 64s 34ms/step - loss: 0.2875 - accuracy: 0.9176\n",
      "Epoch 19/50\n",
      "1875/1875 [==============================] - 64s 34ms/step - loss: 0.2858 - accuracy: 0.9183\n",
      "Epoch 20/50\n",
      "1875/1875 [==============================] - 67s 36ms/step - loss: 0.2785 - accuracy: 0.9198\n",
      "Epoch 21/50\n",
      "1875/1875 [==============================] - 76s 41ms/step - loss: 0.2733 - accuracy: 0.9229\n",
      "Epoch 22/50\n",
      "1875/1875 [==============================] - 90s 48ms/step - loss: 0.2689 - accuracy: 0.9236\n",
      "Epoch 23/50\n",
      "1875/1875 [==============================] - 105s 56ms/step - loss: 0.2723 - accuracy: 0.9223\n",
      "Epoch 24/50\n",
      "1875/1875 [==============================] - 86s 46ms/step - loss: 0.2708 - accuracy: 0.9226\n",
      "Epoch 25/50\n",
      "1875/1875 [==============================] - 77s 41ms/step - loss: 0.2661 - accuracy: 0.9244\n",
      "Epoch 26/50\n",
      "1875/1875 [==============================] - 53s 28ms/step - loss: 0.2588 - accuracy: 0.9265\n",
      "Epoch 27/50\n",
      "1875/1875 [==============================] - 60s 32ms/step - loss: 0.2632 - accuracy: 0.9236\n",
      "Epoch 28/50\n",
      "1875/1875 [==============================] - 80s 43ms/step - loss: 0.2627 - accuracy: 0.9250\n",
      "Epoch 29/50\n",
      "1875/1875 [==============================] - 76s 40ms/step - loss: 0.2551 - accuracy: 0.9268\n",
      "Epoch 30/50\n",
      "1875/1875 [==============================] - 88s 47ms/step - loss: 0.2594 - accuracy: 0.9264\n",
      "Epoch 31/50\n",
      "1875/1875 [==============================] - 130s 69ms/step - loss: 0.2623 - accuracy: 0.9258\n",
      "Epoch 32/50\n",
      "1875/1875 [==============================] - 140s 75ms/step - loss: 0.2478 - accuracy: 0.9290\n",
      "Epoch 33/50\n",
      "1875/1875 [==============================] - 121s 65ms/step - loss: 0.2606 - accuracy: 0.9250\n",
      "Epoch 34/50\n",
      "1875/1875 [==============================] - 129s 69ms/step - loss: 0.2538 - accuracy: 0.9269\n",
      "Epoch 35/50\n",
      "1875/1875 [==============================] - 136s 72ms/step - loss: 0.2526 - accuracy: 0.9266\n",
      "Epoch 36/50\n",
      "1875/1875 [==============================] - 131s 70ms/step - loss: 0.2481 - accuracy: 0.9305\n",
      "Epoch 37/50\n",
      "1875/1875 [==============================] - 101s 54ms/step - loss: 0.2509 - accuracy: 0.9288\n",
      "Epoch 38/50\n",
      "1875/1875 [==============================] - 91s 49ms/step - loss: 0.2505 - accuracy: 0.9286\n",
      "Epoch 39/50\n",
      "1875/1875 [==============================] - 139s 74ms/step - loss: 0.2518 - accuracy: 0.9284\n",
      "Epoch 40/50\n",
      "1875/1875 [==============================] - 87s 46ms/step - loss: 0.2414 - accuracy: 0.9305\n",
      "Epoch 41/50\n",
      "1875/1875 [==============================] - 70s 37ms/step - loss: 0.2477 - accuracy: 0.9301\n",
      "Epoch 42/50\n",
      "1875/1875 [==============================] - 73s 39ms/step - loss: 0.2415 - accuracy: 0.9292\n",
      "Epoch 43/50\n",
      "1875/1875 [==============================] - 103s 55ms/step - loss: 0.2454 - accuracy: 0.9312\n",
      "Epoch 44/50\n",
      "1875/1875 [==============================] - 156s 83ms/step - loss: 0.2425 - accuracy: 0.9317\n",
      "Epoch 45/50\n",
      "1875/1875 [==============================] - 205s 110ms/step - loss: 0.2415 - accuracy: 0.9318\n",
      "Epoch 46/50\n",
      "1875/1875 [==============================] - 157s 84ms/step - loss: 0.2436 - accuracy: 0.9316\n",
      "Epoch 47/50\n",
      "1875/1875 [==============================] - 77s 41ms/step - loss: 0.2408 - accuracy: 0.9294\n",
      "Epoch 48/50\n",
      "1875/1875 [==============================] - 53s 28ms/step - loss: 0.2465 - accuracy: 0.9294\n",
      "Epoch 49/50\n",
      "1875/1875 [==============================] - 52s 28ms/step - loss: 0.2453 - accuracy: 0.9296\n",
      "Epoch 50/50\n",
      "1875/1875 [==============================] - 69s 37ms/step - loss: 0.2436 - accuracy: 0.9314\n"
     ]
    },
    {
     "data": {
      "text/plain": [
       "<keras.callbacks.History at 0x1ad062222e0>"
      ]
     },
     "execution_count": 15,
     "metadata": {},
     "output_type": "execute_result"
    }
   ],
   "source": [
    "#fit the model on the training set\n",
    "model.fit(x_train, y_train, epochs = 50)"
   ]
  },
  {
   "cell_type": "code",
   "execution_count": 16,
   "id": "b6beb953",
   "metadata": {},
   "outputs": [],
   "source": [
    "np.set_printoptions(formatter = {'float': '{:0.2f}'.format})"
   ]
  },
  {
   "cell_type": "code",
   "execution_count": 23,
   "id": "e67e0f31",
   "metadata": {
    "scrolled": true
   },
   "outputs": [
    {
     "name": "stdout",
     "output_type": "stream",
     "text": [
      "313/313 [==============================] - 4s 12ms/step\n"
     ]
    },
    {
     "data": {
      "text/plain": [
       "array([[0.00, 0.00, 0.01, 0.07, 0.00, 0.76, 0.00, 0.00, 0.08, 0.07],\n",
       "       [1.00, 0.00, 0.00, 0.00, 0.00, 0.00, 0.00, 0.00, 0.00, 0.00],\n",
       "       [0.00, 0.00, 0.00, 0.00, 0.90, 0.00, 0.00, 0.01, 0.00, 0.10],\n",
       "       [0.00, 1.00, 0.00, 0.00, 0.00, 0.00, 0.00, 0.00, 0.00, 0.00],\n",
       "       [0.00, 0.00, 0.00, 0.00, 0.00, 0.00, 0.00, 0.00, 0.00, 1.00]],\n",
       "      dtype=float32)"
      ]
     },
     "execution_count": 23,
     "metadata": {},
     "output_type": "execute_result"
    }
   ],
   "source": [
    "#predictions\n",
    "pred = model.predict(x_test)\n",
    "pred[:5]"
   ]
  },
  {
   "cell_type": "code",
   "execution_count": 18,
   "id": "3c0ba9bc",
   "metadata": {},
   "outputs": [
    {
     "data": {
      "text/plain": [
       "[5, 0, 4, 1, 9, 2, 1, 3, 1, 4]"
      ]
     },
     "execution_count": 18,
     "metadata": {},
     "output_type": "execute_result"
    }
   ],
   "source": [
    "y_pred = [np.argmax(pred[i]) for i in range(len(pred))]\n",
    "y_pred[:10]"
   ]
  },
  {
   "cell_type": "code",
   "execution_count": 19,
   "id": "a337055a",
   "metadata": {
    "scrolled": true
   },
   "outputs": [
    {
     "name": "stdout",
     "output_type": "stream",
     "text": [
      "0    5\n",
      "1    0\n",
      "2    4\n",
      "3    1\n",
      "4    9\n",
      "5    2\n",
      "6    1\n",
      "7    3\n",
      "8    1\n",
      "9    4\n",
      "Name: class, dtype: int32\n"
     ]
    }
   ],
   "source": [
    "print(y_test[:10])"
   ]
  },
  {
   "cell_type": "code",
   "execution_count": 31,
   "id": "e763126d",
   "metadata": {},
   "outputs": [
    {
     "data": {
      "image/png": "[encoded data removed]",
      "text/plain": [
       "<Figure size 1080x1440 with 20 Axes>"
      ]
     },
     "metadata": {
      "needs_background": "light"
     },
     "output_type": "display_data"
    }
   ],
   "source": [
    "#Visualising predictions\n",
    "y_list = list(y_test)\n",
    "\n",
    "plt.figure(figsize = (15,20))\n",
    "for i in range(20):\n",
    "    plt.subplot(4,5, i+1)\n",
    "    some_val = x_test.iloc[i].to_numpy()\n",
    "    some_val_image = some_val.reshape(28,28)\n",
    "    plt.imshow(some_val_image, cmap = mpl.cm.binary)\n",
    "    plt.subplots_adjust(bottom = 0.1, right = 0.8, top = 0.7)\n",
    "    plt.title(f'Real Value: {y_list[i]} \\n'+ f'Predicted Value: {y_pred[i]}')"
   ]
  }
 ],
 "metadata": {
  "kernelspec": {
   "display_name": "Python 3 (ipykernel)",
   "language": "python",
   "name": "python3"
  },
  "language_info": {
   "codemirror_mode": {
    "name": "ipython",
    "version": 3
   },
   "file_extension": ".py",
   "mimetype": "text/x-python",
   "name": "python",
   "nbconvert_exporter": "python",
   "pygments_lexer": "ipython3",
   "version": "3.9.7"
  }
 },
 "nbformat": 4,
 "nbformat_minor": 5
}
