{
 "cells": [
  {
   "cell_type": "markdown",
   "id": "690b0b3b",
   "metadata": {},
   "source": [
    "<a id='top'></a>\n",
    "# Student Performance data and visualisation\n",
    "> This data was gotten from kaggle and contains information on students and their performance in an exam. Each student is grades based on math, reading and writing. There are other additional information for the students such as race, parental level of education, lunch and test preparation.\n",
    "\n",
    "> Link to dataset : https://www.kaggle.com/datasets/adithyabshetty100/student-performance \n",
    "\n",
    "> I will be performing some analysis and visualisation to find the relationship between different features in the dataset.\n",
    "\n",
    "- <a href = '#barplot'>Bar Plots</a>\n",
    "- <a href = '#pieplot'>Pie Plots</a>\n",
    "- <a href = '#boxplot'>Box Plots</a>\n",
    "- <a href = '#scatterplot'>Scatter Plots</a>"
   ]
  },
  {
   "cell_type": "code",
   "execution_count": 1,
   "id": "ced50453",
   "metadata": {},
   "outputs": [
    {
     "name": "stdout",
     "output_type": "stream",
     "text": [
      "Greetings World! I am Mary\n"
     ]
    }
   ],
   "source": [
    "print('Greetings World! I am Mary')"
   ]
  },
  {
   "cell_type": "code",
   "execution_count": 2,
   "id": "52451796",
   "metadata": {},
   "outputs": [],
   "source": [
    "#using pandas and matplotlib\n",
    "import numpy as np\n",
    "import pandas as pd\n",
    "import seaborn as sn\n",
    "import matplotlib.pyplot as plt"
   ]
  },
  {
   "cell_type": "code",
   "execution_count": 3,
   "id": "50f37ff5",
   "metadata": {},
   "outputs": [
    {
     "data": {
      "text/html": [
       "<div>\n",
       "<style scoped>\n",
       "    .dataframe tbody tr th:only-of-type {\n",
       "        vertical-align: middle;\n",
       "    }\n",
       "\n",
       "    .dataframe tbody tr th {\n",
       "        vertical-align: top;\n",
       "    }\n",
       "\n",
       "    .dataframe thead th {\n",
       "        text-align: right;\n",
       "    }\n",
       "</style>\n",
       "<table border=\"1\" class=\"dataframe\">\n",
       "  <thead>\n",
       "    <tr style=\"text-align: right;\">\n",
       "      <th></th>\n",
       "      <th>gender</th>\n",
       "      <th>race/ethnicity</th>\n",
       "      <th>parental level of education</th>\n",
       "      <th>lunch</th>\n",
       "      <th>test preparation course</th>\n",
       "      <th>math score</th>\n",
       "      <th>reading score</th>\n",
       "      <th>writing score</th>\n",
       "    </tr>\n",
       "  </thead>\n",
       "  <tbody>\n",
       "    <tr>\n",
       "      <th>0</th>\n",
       "      <td>female</td>\n",
       "      <td>group B</td>\n",
       "      <td>bachelor's degree</td>\n",
       "      <td>standard</td>\n",
       "      <td>none</td>\n",
       "      <td>72</td>\n",
       "      <td>72</td>\n",
       "      <td>74</td>\n",
       "    </tr>\n",
       "    <tr>\n",
       "      <th>1</th>\n",
       "      <td>female</td>\n",
       "      <td>group C</td>\n",
       "      <td>some college</td>\n",
       "      <td>standard</td>\n",
       "      <td>completed</td>\n",
       "      <td>69</td>\n",
       "      <td>90</td>\n",
       "      <td>88</td>\n",
       "    </tr>\n",
       "    <tr>\n",
       "      <th>2</th>\n",
       "      <td>female</td>\n",
       "      <td>group B</td>\n",
       "      <td>master's degree</td>\n",
       "      <td>standard</td>\n",
       "      <td>none</td>\n",
       "      <td>90</td>\n",
       "      <td>95</td>\n",
       "      <td>93</td>\n",
       "    </tr>\n",
       "    <tr>\n",
       "      <th>3</th>\n",
       "      <td>male</td>\n",
       "      <td>group A</td>\n",
       "      <td>associate's degree</td>\n",
       "      <td>free/reduced</td>\n",
       "      <td>none</td>\n",
       "      <td>47</td>\n",
       "      <td>57</td>\n",
       "      <td>44</td>\n",
       "    </tr>\n",
       "    <tr>\n",
       "      <th>4</th>\n",
       "      <td>male</td>\n",
       "      <td>group C</td>\n",
       "      <td>some college</td>\n",
       "      <td>standard</td>\n",
       "      <td>none</td>\n",
       "      <td>76</td>\n",
       "      <td>78</td>\n",
       "      <td>75</td>\n",
       "    </tr>\n",
       "    <tr>\n",
       "      <th>...</th>\n",
       "      <td>...</td>\n",
       "      <td>...</td>\n",
       "      <td>...</td>\n",
       "      <td>...</td>\n",
       "      <td>...</td>\n",
       "      <td>...</td>\n",
       "      <td>...</td>\n",
       "      <td>...</td>\n",
       "    </tr>\n",
       "    <tr>\n",
       "      <th>995</th>\n",
       "      <td>female</td>\n",
       "      <td>group E</td>\n",
       "      <td>master's degree</td>\n",
       "      <td>standard</td>\n",
       "      <td>completed</td>\n",
       "      <td>88</td>\n",
       "      <td>99</td>\n",
       "      <td>95</td>\n",
       "    </tr>\n",
       "    <tr>\n",
       "      <th>996</th>\n",
       "      <td>male</td>\n",
       "      <td>group C</td>\n",
       "      <td>high school</td>\n",
       "      <td>free/reduced</td>\n",
       "      <td>none</td>\n",
       "      <td>62</td>\n",
       "      <td>55</td>\n",
       "      <td>55</td>\n",
       "    </tr>\n",
       "    <tr>\n",
       "      <th>997</th>\n",
       "      <td>female</td>\n",
       "      <td>group C</td>\n",
       "      <td>high school</td>\n",
       "      <td>free/reduced</td>\n",
       "      <td>completed</td>\n",
       "      <td>59</td>\n",
       "      <td>71</td>\n",
       "      <td>65</td>\n",
       "    </tr>\n",
       "    <tr>\n",
       "      <th>998</th>\n",
       "      <td>female</td>\n",
       "      <td>group D</td>\n",
       "      <td>some college</td>\n",
       "      <td>standard</td>\n",
       "      <td>completed</td>\n",
       "      <td>68</td>\n",
       "      <td>78</td>\n",
       "      <td>77</td>\n",
       "    </tr>\n",
       "    <tr>\n",
       "      <th>999</th>\n",
       "      <td>female</td>\n",
       "      <td>group D</td>\n",
       "      <td>some college</td>\n",
       "      <td>free/reduced</td>\n",
       "      <td>none</td>\n",
       "      <td>77</td>\n",
       "      <td>86</td>\n",
       "      <td>86</td>\n",
       "    </tr>\n",
       "  </tbody>\n",
       "</table>\n",
       "<p>1000 rows × 8 columns</p>\n",
       "</div>"
      ],
      "text/plain": [
       "     gender race/ethnicity parental level of education         lunch  \\\n",
       "0    female        group B           bachelor's degree      standard   \n",
       "1    female        group C                some college      standard   \n",
       "2    female        group B             master's degree      standard   \n",
       "3      male        group A          associate's degree  free/reduced   \n",
       "4      male        group C                some college      standard   \n",
       "..      ...            ...                         ...           ...   \n",
       "995  female        group E             master's degree      standard   \n",
       "996    male        group C                 high school  free/reduced   \n",
       "997  female        group C                 high school  free/reduced   \n",
       "998  female        group D                some college      standard   \n",
       "999  female        group D                some college  free/reduced   \n",
       "\n",
       "    test preparation course  math score  reading score  writing score  \n",
       "0                      none          72             72             74  \n",
       "1                 completed          69             90             88  \n",
       "2                      none          90             95             93  \n",
       "3                      none          47             57             44  \n",
       "4                      none          76             78             75  \n",
       "..                      ...         ...            ...            ...  \n",
       "995               completed          88             99             95  \n",
       "996                    none          62             55             55  \n",
       "997               completed          59             71             65  \n",
       "998               completed          68             78             77  \n",
       "999                    none          77             86             86  \n",
       "\n",
       "[1000 rows x 8 columns]"
      ]
     },
     "execution_count": 3,
     "metadata": {},
     "output_type": "execute_result"
    }
   ],
   "source": [
    "#read dataset to pandas dataframe\n",
    "perform =pd.read_csv('stuperform.csv')\n",
    "perform"
   ]
  },
  {
   "cell_type": "code",
   "execution_count": 4,
   "id": "0bf16be6",
   "metadata": {},
   "outputs": [
    {
     "data": {
      "text/plain": [
       "(1000, 8)"
      ]
     },
     "execution_count": 4,
     "metadata": {},
     "output_type": "execute_result"
    }
   ],
   "source": [
    "#get the shape of the dataset\n",
    "perform.shape"
   ]
  },
  {
   "cell_type": "code",
   "execution_count": 5,
   "id": "ee69c0be",
   "metadata": {},
   "outputs": [
    {
     "data": {
      "text/plain": [
       "0"
      ]
     },
     "execution_count": 5,
     "metadata": {},
     "output_type": "execute_result"
    }
   ],
   "source": [
    "#check for duplicates\n",
    "perform.duplicated().sum()"
   ]
  },
  {
   "cell_type": "code",
   "execution_count": 6,
   "id": "4017d023",
   "metadata": {},
   "outputs": [
    {
     "data": {
      "text/plain": [
       "gender                         0\n",
       "race/ethnicity                 0\n",
       "parental level of education    0\n",
       "lunch                          0\n",
       "test preparation course        0\n",
       "math score                     0\n",
       "reading score                  0\n",
       "writing score                  0\n",
       "dtype: int64"
      ]
     },
     "execution_count": 6,
     "metadata": {},
     "output_type": "execute_result"
    }
   ],
   "source": [
    "#check for missing or empty data\n",
    "perform.isnull().sum()"
   ]
  },
  {
   "cell_type": "code",
   "execution_count": 7,
   "id": "7da5d271",
   "metadata": {
    "scrolled": false
   },
   "outputs": [
    {
     "name": "stdout",
     "output_type": "stream",
     "text": [
      "<class 'pandas.core.frame.DataFrame'>\n",
      "RangeIndex: 1000 entries, 0 to 999\n",
      "Data columns (total 8 columns):\n",
      " #   Column                       Non-Null Count  Dtype \n",
      "---  ------                       --------------  ----- \n",
      " 0   gender                       1000 non-null   object\n",
      " 1   race/ethnicity               1000 non-null   object\n",
      " 2   parental level of education  1000 non-null   object\n",
      " 3   lunch                        1000 non-null   object\n",
      " 4   test preparation course      1000 non-null   object\n",
      " 5   math score                   1000 non-null   int64 \n",
      " 6   reading score                1000 non-null   int64 \n",
      " 7   writing score                1000 non-null   int64 \n",
      "dtypes: int64(3), object(5)\n",
      "memory usage: 62.6+ KB\n"
     ]
    }
   ],
   "source": [
    "#summary of dataset\n",
    "perform.info()"
   ]
  },
  {
   "cell_type": "code",
   "execution_count": 8,
   "id": "e483feec",
   "metadata": {},
   "outputs": [],
   "source": [
    "#renaming the columns\n",
    "perform = perform.rename(columns = {'race/ethnicity' : 'race_ethnicity', 'test preparation course' : 'test_prep', 'math score' : 'math_score','reading score' : 'reading_score', 'writing score' : 'writing_score', 'parental level of education' : 'parental_level_of_education'})"
   ]
  },
  {
   "cell_type": "code",
   "execution_count": 9,
   "id": "e605649c",
   "metadata": {
    "scrolled": true
   },
   "outputs": [
    {
     "data": {
      "text/html": [
       "<div>\n",
       "<style scoped>\n",
       "    .dataframe tbody tr th:only-of-type {\n",
       "        vertical-align: middle;\n",
       "    }\n",
       "\n",
       "    .dataframe tbody tr th {\n",
       "        vertical-align: top;\n",
       "    }\n",
       "\n",
       "    .dataframe thead th {\n",
       "        text-align: right;\n",
       "    }\n",
       "</style>\n",
       "<table border=\"1\" class=\"dataframe\">\n",
       "  <thead>\n",
       "    <tr style=\"text-align: right;\">\n",
       "      <th></th>\n",
       "      <th>gender</th>\n",
       "      <th>race_ethnicity</th>\n",
       "      <th>parental_level_of_education</th>\n",
       "      <th>lunch</th>\n",
       "      <th>test_prep</th>\n",
       "      <th>math_score</th>\n",
       "      <th>reading_score</th>\n",
       "      <th>writing_score</th>\n",
       "    </tr>\n",
       "  </thead>\n",
       "  <tbody>\n",
       "    <tr>\n",
       "      <th>0</th>\n",
       "      <td>female</td>\n",
       "      <td>group B</td>\n",
       "      <td>bachelor's degree</td>\n",
       "      <td>standard</td>\n",
       "      <td>none</td>\n",
       "      <td>72</td>\n",
       "      <td>72</td>\n",
       "      <td>74</td>\n",
       "    </tr>\n",
       "    <tr>\n",
       "      <th>1</th>\n",
       "      <td>female</td>\n",
       "      <td>group C</td>\n",
       "      <td>some college</td>\n",
       "      <td>standard</td>\n",
       "      <td>completed</td>\n",
       "      <td>69</td>\n",
       "      <td>90</td>\n",
       "      <td>88</td>\n",
       "    </tr>\n",
       "    <tr>\n",
       "      <th>2</th>\n",
       "      <td>female</td>\n",
       "      <td>group B</td>\n",
       "      <td>master's degree</td>\n",
       "      <td>standard</td>\n",
       "      <td>none</td>\n",
       "      <td>90</td>\n",
       "      <td>95</td>\n",
       "      <td>93</td>\n",
       "    </tr>\n",
       "    <tr>\n",
       "      <th>3</th>\n",
       "      <td>male</td>\n",
       "      <td>group A</td>\n",
       "      <td>associate's degree</td>\n",
       "      <td>free/reduced</td>\n",
       "      <td>none</td>\n",
       "      <td>47</td>\n",
       "      <td>57</td>\n",
       "      <td>44</td>\n",
       "    </tr>\n",
       "    <tr>\n",
       "      <th>4</th>\n",
       "      <td>male</td>\n",
       "      <td>group C</td>\n",
       "      <td>some college</td>\n",
       "      <td>standard</td>\n",
       "      <td>none</td>\n",
       "      <td>76</td>\n",
       "      <td>78</td>\n",
       "      <td>75</td>\n",
       "    </tr>\n",
       "  </tbody>\n",
       "</table>\n",
       "</div>"
      ],
      "text/plain": [
       "   gender race_ethnicity parental_level_of_education         lunch  test_prep  \\\n",
       "0  female        group B           bachelor's degree      standard       none   \n",
       "1  female        group C                some college      standard  completed   \n",
       "2  female        group B             master's degree      standard       none   \n",
       "3    male        group A          associate's degree  free/reduced       none   \n",
       "4    male        group C                some college      standard       none   \n",
       "\n",
       "   math_score  reading_score  writing_score  \n",
       "0          72             72             74  \n",
       "1          69             90             88  \n",
       "2          90             95             93  \n",
       "3          47             57             44  \n",
       "4          76             78             75  "
      ]
     },
     "execution_count": 9,
     "metadata": {},
     "output_type": "execute_result"
    }
   ],
   "source": [
    "#Test \n",
    "perform.head()"
   ]
  },
  {
   "cell_type": "code",
   "execution_count": 10,
   "id": "cf045fad",
   "metadata": {},
   "outputs": [
    {
     "data": {
      "text/html": [
       "<div>\n",
       "<style scoped>\n",
       "    .dataframe tbody tr th:only-of-type {\n",
       "        vertical-align: middle;\n",
       "    }\n",
       "\n",
       "    .dataframe tbody tr th {\n",
       "        vertical-align: top;\n",
       "    }\n",
       "\n",
       "    .dataframe thead th {\n",
       "        text-align: right;\n",
       "    }\n",
       "</style>\n",
       "<table border=\"1\" class=\"dataframe\">\n",
       "  <thead>\n",
       "    <tr style=\"text-align: right;\">\n",
       "      <th></th>\n",
       "      <th>math_score</th>\n",
       "      <th>reading_score</th>\n",
       "      <th>writing_score</th>\n",
       "    </tr>\n",
       "  </thead>\n",
       "  <tbody>\n",
       "    <tr>\n",
       "      <th>count</th>\n",
       "      <td>1000.00000</td>\n",
       "      <td>1000.000000</td>\n",
       "      <td>1000.000000</td>\n",
       "    </tr>\n",
       "    <tr>\n",
       "      <th>mean</th>\n",
       "      <td>66.08900</td>\n",
       "      <td>69.169000</td>\n",
       "      <td>68.054000</td>\n",
       "    </tr>\n",
       "    <tr>\n",
       "      <th>std</th>\n",
       "      <td>15.16308</td>\n",
       "      <td>14.600192</td>\n",
       "      <td>15.195657</td>\n",
       "    </tr>\n",
       "    <tr>\n",
       "      <th>min</th>\n",
       "      <td>0.00000</td>\n",
       "      <td>17.000000</td>\n",
       "      <td>10.000000</td>\n",
       "    </tr>\n",
       "    <tr>\n",
       "      <th>25%</th>\n",
       "      <td>57.00000</td>\n",
       "      <td>59.000000</td>\n",
       "      <td>57.750000</td>\n",
       "    </tr>\n",
       "    <tr>\n",
       "      <th>50%</th>\n",
       "      <td>66.00000</td>\n",
       "      <td>70.000000</td>\n",
       "      <td>69.000000</td>\n",
       "    </tr>\n",
       "    <tr>\n",
       "      <th>75%</th>\n",
       "      <td>77.00000</td>\n",
       "      <td>79.000000</td>\n",
       "      <td>79.000000</td>\n",
       "    </tr>\n",
       "    <tr>\n",
       "      <th>max</th>\n",
       "      <td>100.00000</td>\n",
       "      <td>100.000000</td>\n",
       "      <td>100.000000</td>\n",
       "    </tr>\n",
       "  </tbody>\n",
       "</table>\n",
       "</div>"
      ],
      "text/plain": [
       "       math_score  reading_score  writing_score\n",
       "count  1000.00000    1000.000000    1000.000000\n",
       "mean     66.08900      69.169000      68.054000\n",
       "std      15.16308      14.600192      15.195657\n",
       "min       0.00000      17.000000      10.000000\n",
       "25%      57.00000      59.000000      57.750000\n",
       "50%      66.00000      70.000000      69.000000\n",
       "75%      77.00000      79.000000      79.000000\n",
       "max     100.00000     100.000000     100.000000"
      ]
     },
     "execution_count": 10,
     "metadata": {},
     "output_type": "execute_result"
    }
   ],
   "source": [
    "#brief statistics on numerical data in the dataset\n",
    "perform.describe()"
   ]
  },
  {
   "cell_type": "markdown",
   "id": "8e633acb",
   "metadata": {},
   "source": [
    "## Plots\n",
    ">The visualisations will be done here "
   ]
  },
  {
   "cell_type": "markdown",
   "id": "9a843fa1",
   "metadata": {},
   "source": [
    "<a id = 'barplot'></a>\n",
    "# Bar plots"
   ]
  },
  {
   "cell_type": "code",
   "execution_count": 11,
   "id": "8f4dc441",
   "metadata": {
    "scrolled": true
   },
   "outputs": [
    {
     "data": {
      "image/png": "[encoded data removed]",
      "text/plain": [
       "<Figure size 432x288 with 1 Axes>"
      ]
     },
     "metadata": {
      "needs_background": "light"
     },
     "output_type": "display_data"
    }
   ],
   "source": [
    "#get the labels for the plot\n",
    "x = perform['gender'].unique()\n",
    "\n",
    "#count of the labels\n",
    "y = perform['gender'].value_counts(sort = False)\n",
    "\n",
    "plt.bar(x,y)\n",
    "\n",
    "plt.xlabel('Gender')\n",
    "plt.ylabel('Count')\n",
    "\n",
    "plt.show()"
   ]
  },
  {
   "cell_type": "markdown",
   "id": "8a542aea",
   "metadata": {},
   "source": [
    "There are more female students than male students"
   ]
  },
  {
   "cell_type": "code",
   "execution_count": 12,
   "id": "50f193f4",
   "metadata": {
    "scrolled": true
   },
   "outputs": [
    {
     "data": {
      "image/png": "[encoded data removed]",
      "text/plain": [
       "<Figure size 432x288 with 1 Axes>"
      ]
     },
     "metadata": {
      "needs_background": "light"
     },
     "output_type": "display_data"
    }
   ],
   "source": [
    "#Plotting the race of the students\n",
    "x = perform['race_ethnicity'].unique()\n",
    "y = perform['race_ethnicity'].value_counts(sort = True)\n",
    "\n",
    "plt.bar(x,y)\n",
    "plt.xlabel('Race/Ethnicity')\n",
    "plt.ylabel('Frequency')\n",
    "\n",
    "plt.show()"
   ]
  },
  {
   "cell_type": "markdown",
   "id": "99088e2c",
   "metadata": {},
   "source": [
    "This shows that there are more students from group B race than other races."
   ]
  },
  {
   "cell_type": "code",
   "execution_count": 13,
   "id": "721e655f",
   "metadata": {
    "scrolled": true
   },
   "outputs": [
    {
     "data": {
      "text/html": [
       "<div>\n",
       "<style scoped>\n",
       "    .dataframe tbody tr th:only-of-type {\n",
       "        vertical-align: middle;\n",
       "    }\n",
       "\n",
       "    .dataframe tbody tr th {\n",
       "        vertical-align: top;\n",
       "    }\n",
       "\n",
       "    .dataframe thead tr th {\n",
       "        text-align: left;\n",
       "    }\n",
       "\n",
       "    .dataframe thead tr:last-of-type th {\n",
       "        text-align: right;\n",
       "    }\n",
       "</style>\n",
       "<table border=\"1\" class=\"dataframe\">\n",
       "  <thead>\n",
       "    <tr>\n",
       "      <th></th>\n",
       "      <th></th>\n",
       "      <th colspan=\"3\" halign=\"left\">math_score</th>\n",
       "      <th colspan=\"3\" halign=\"left\">reading_score</th>\n",
       "      <th colspan=\"3\" halign=\"left\">writing_score</th>\n",
       "    </tr>\n",
       "    <tr>\n",
       "      <th></th>\n",
       "      <th></th>\n",
       "      <th>sum</th>\n",
       "      <th>mean</th>\n",
       "      <th>std</th>\n",
       "      <th>sum</th>\n",
       "      <th>mean</th>\n",
       "      <th>std</th>\n",
       "      <th>sum</th>\n",
       "      <th>mean</th>\n",
       "      <th>std</th>\n",
       "    </tr>\n",
       "    <tr>\n",
       "      <th>gender</th>\n",
       "      <th>race_ethnicity</th>\n",
       "      <th></th>\n",
       "      <th></th>\n",
       "      <th></th>\n",
       "      <th></th>\n",
       "      <th></th>\n",
       "      <th></th>\n",
       "      <th></th>\n",
       "      <th></th>\n",
       "      <th></th>\n",
       "    </tr>\n",
       "  </thead>\n",
       "  <tbody>\n",
       "    <tr>\n",
       "      <th rowspan=\"5\" valign=\"top\">female</th>\n",
       "      <th>group A</th>\n",
       "      <td>2107</td>\n",
       "      <td>58.527778</td>\n",
       "      <td>14.157252</td>\n",
       "      <td>2484</td>\n",
       "      <td>69.000000</td>\n",
       "      <td>14.847799</td>\n",
       "      <td>2443</td>\n",
       "      <td>67.861111</td>\n",
       "      <td>14.652455</td>\n",
       "    </tr>\n",
       "    <tr>\n",
       "      <th>group B</th>\n",
       "      <td>6386</td>\n",
       "      <td>61.403846</td>\n",
       "      <td>16.256750</td>\n",
       "      <td>7392</td>\n",
       "      <td>71.076923</td>\n",
       "      <td>14.612598</td>\n",
       "      <td>7285</td>\n",
       "      <td>70.048077</td>\n",
       "      <td>14.891439</td>\n",
       "    </tr>\n",
       "    <tr>\n",
       "      <th>group C</th>\n",
       "      <td>11166</td>\n",
       "      <td>62.033333</td>\n",
       "      <td>15.007224</td>\n",
       "      <td>12950</td>\n",
       "      <td>71.944444</td>\n",
       "      <td>13.900574</td>\n",
       "      <td>12920</td>\n",
       "      <td>71.777778</td>\n",
       "      <td>14.806595</td>\n",
       "    </tr>\n",
       "    <tr>\n",
       "      <th>group D</th>\n",
       "      <td>8417</td>\n",
       "      <td>65.248062</td>\n",
       "      <td>14.174157</td>\n",
       "      <td>9552</td>\n",
       "      <td>74.046512</td>\n",
       "      <td>13.914842</td>\n",
       "      <td>9678</td>\n",
       "      <td>75.023256</td>\n",
       "      <td>13.866814</td>\n",
       "    </tr>\n",
       "    <tr>\n",
       "      <th>group E</th>\n",
       "      <td>4886</td>\n",
       "      <td>70.811594</td>\n",
       "      <td>16.269129</td>\n",
       "      <td>5233</td>\n",
       "      <td>75.840580</td>\n",
       "      <td>15.349481</td>\n",
       "      <td>5212</td>\n",
       "      <td>75.536232</td>\n",
       "      <td>15.703671</td>\n",
       "    </tr>\n",
       "    <tr>\n",
       "      <th rowspan=\"5\" valign=\"top\">male</th>\n",
       "      <th>group A</th>\n",
       "      <td>3378</td>\n",
       "      <td>63.735849</td>\n",
       "      <td>14.520742</td>\n",
       "      <td>3272</td>\n",
       "      <td>61.735849</td>\n",
       "      <td>15.451103</td>\n",
       "      <td>3135</td>\n",
       "      <td>59.150943</td>\n",
       "      <td>15.137061</td>\n",
       "    </tr>\n",
       "    <tr>\n",
       "      <th>group B</th>\n",
       "      <td>5670</td>\n",
       "      <td>65.930233</td>\n",
       "      <td>14.156928</td>\n",
       "      <td>5405</td>\n",
       "      <td>62.848837</td>\n",
       "      <td>14.695752</td>\n",
       "      <td>5179</td>\n",
       "      <td>60.220930</td>\n",
       "      <td>14.854907</td>\n",
       "    </tr>\n",
       "    <tr>\n",
       "      <th>group C</th>\n",
       "      <td>9398</td>\n",
       "      <td>67.611511</td>\n",
       "      <td>14.090037</td>\n",
       "      <td>9094</td>\n",
       "      <td>65.424460</td>\n",
       "      <td>13.291590</td>\n",
       "      <td>8717</td>\n",
       "      <td>62.712230</td>\n",
       "      <td>13.647341</td>\n",
       "    </tr>\n",
       "    <tr>\n",
       "      <th>group D</th>\n",
       "      <td>9232</td>\n",
       "      <td>69.413534</td>\n",
       "      <td>13.094139</td>\n",
       "      <td>8796</td>\n",
       "      <td>66.135338</td>\n",
       "      <td>12.765829</td>\n",
       "      <td>8700</td>\n",
       "      <td>65.413534</td>\n",
       "      <td>13.262574</td>\n",
       "    </tr>\n",
       "    <tr>\n",
       "      <th>group E</th>\n",
       "      <td>5449</td>\n",
       "      <td>76.746479</td>\n",
       "      <td>14.298570</td>\n",
       "      <td>4991</td>\n",
       "      <td>70.295775</td>\n",
       "      <td>13.966689</td>\n",
       "      <td>4785</td>\n",
       "      <td>67.394366</td>\n",
       "      <td>13.449885</td>\n",
       "    </tr>\n",
       "  </tbody>\n",
       "</table>\n",
       "</div>"
      ],
      "text/plain": [
       "                      math_score                       reading_score  \\\n",
       "                             sum       mean        std           sum   \n",
       "gender race_ethnicity                                                  \n",
       "female group A              2107  58.527778  14.157252          2484   \n",
       "       group B              6386  61.403846  16.256750          7392   \n",
       "       group C             11166  62.033333  15.007224         12950   \n",
       "       group D              8417  65.248062  14.174157          9552   \n",
       "       group E              4886  70.811594  16.269129          5233   \n",
       "male   group A              3378  63.735849  14.520742          3272   \n",
       "       group B              5670  65.930233  14.156928          5405   \n",
       "       group C              9398  67.611511  14.090037          9094   \n",
       "       group D              9232  69.413534  13.094139          8796   \n",
       "       group E              5449  76.746479  14.298570          4991   \n",
       "\n",
       "                                            writing_score             \\\n",
       "                            mean        std           sum       mean   \n",
       "gender race_ethnicity                                                  \n",
       "female group A         69.000000  14.847799          2443  67.861111   \n",
       "       group B         71.076923  14.612598          7285  70.048077   \n",
       "       group C         71.944444  13.900574         12920  71.777778   \n",
       "       group D         74.046512  13.914842          9678  75.023256   \n",
       "       group E         75.840580  15.349481          5212  75.536232   \n",
       "male   group A         61.735849  15.451103          3135  59.150943   \n",
       "       group B         62.848837  14.695752          5179  60.220930   \n",
       "       group C         65.424460  13.291590          8717  62.712230   \n",
       "       group D         66.135338  12.765829          8700  65.413534   \n",
       "       group E         70.295775  13.966689          4785  67.394366   \n",
       "\n",
       "                                  \n",
       "                             std  \n",
       "gender race_ethnicity             \n",
       "female group A         14.652455  \n",
       "       group B         14.891439  \n",
       "       group C         14.806595  \n",
       "       group D         13.866814  \n",
       "       group E         15.703671  \n",
       "male   group A         15.137061  \n",
       "       group B         14.854907  \n",
       "       group C         13.647341  \n",
       "       group D         13.262574  \n",
       "       group E         13.449885  "
      ]
     },
     "execution_count": 13,
     "metadata": {},
     "output_type": "execute_result"
    }
   ],
   "source": [
    "#To get the aggregate of the scores for each gender and race\n",
    "grouped = perform.groupby(['gender','race_ethnicity'])\n",
    "grouped.agg([np.sum,np.mean, np.std])"
   ]
  },
  {
   "cell_type": "code",
   "execution_count": 14,
   "id": "2b75c622",
   "metadata": {
    "scrolled": true
   },
   "outputs": [
    {
     "data": {
      "text/html": [
       "<div>\n",
       "<style scoped>\n",
       "    .dataframe tbody tr th:only-of-type {\n",
       "        vertical-align: middle;\n",
       "    }\n",
       "\n",
       "    .dataframe tbody tr th {\n",
       "        vertical-align: top;\n",
       "    }\n",
       "\n",
       "    .dataframe thead th {\n",
       "        text-align: right;\n",
       "    }\n",
       "</style>\n",
       "<table border=\"1\" class=\"dataframe\">\n",
       "  <thead>\n",
       "    <tr style=\"text-align: right;\">\n",
       "      <th></th>\n",
       "      <th>gender</th>\n",
       "      <th>race_ethnicity</th>\n",
       "      <th>parental_level_of_education</th>\n",
       "      <th>lunch</th>\n",
       "      <th>test_prep</th>\n",
       "      <th>math_score</th>\n",
       "      <th>reading_score</th>\n",
       "      <th>writing_score</th>\n",
       "    </tr>\n",
       "  </thead>\n",
       "  <tbody>\n",
       "    <tr>\n",
       "      <th>0</th>\n",
       "      <td>female</td>\n",
       "      <td>group B</td>\n",
       "      <td>bachelor's degree</td>\n",
       "      <td>standard</td>\n",
       "      <td>none</td>\n",
       "      <td>72</td>\n",
       "      <td>72</td>\n",
       "      <td>74</td>\n",
       "    </tr>\n",
       "    <tr>\n",
       "      <th>1</th>\n",
       "      <td>female</td>\n",
       "      <td>group C</td>\n",
       "      <td>some college</td>\n",
       "      <td>standard</td>\n",
       "      <td>completed</td>\n",
       "      <td>69</td>\n",
       "      <td>90</td>\n",
       "      <td>88</td>\n",
       "    </tr>\n",
       "    <tr>\n",
       "      <th>2</th>\n",
       "      <td>female</td>\n",
       "      <td>group B</td>\n",
       "      <td>master's degree</td>\n",
       "      <td>standard</td>\n",
       "      <td>none</td>\n",
       "      <td>90</td>\n",
       "      <td>95</td>\n",
       "      <td>93</td>\n",
       "    </tr>\n",
       "    <tr>\n",
       "      <th>5</th>\n",
       "      <td>female</td>\n",
       "      <td>group B</td>\n",
       "      <td>associate's degree</td>\n",
       "      <td>standard</td>\n",
       "      <td>none</td>\n",
       "      <td>71</td>\n",
       "      <td>83</td>\n",
       "      <td>78</td>\n",
       "    </tr>\n",
       "    <tr>\n",
       "      <th>6</th>\n",
       "      <td>female</td>\n",
       "      <td>group B</td>\n",
       "      <td>some college</td>\n",
       "      <td>standard</td>\n",
       "      <td>completed</td>\n",
       "      <td>88</td>\n",
       "      <td>95</td>\n",
       "      <td>92</td>\n",
       "    </tr>\n",
       "    <tr>\n",
       "      <th>...</th>\n",
       "      <td>...</td>\n",
       "      <td>...</td>\n",
       "      <td>...</td>\n",
       "      <td>...</td>\n",
       "      <td>...</td>\n",
       "      <td>...</td>\n",
       "      <td>...</td>\n",
       "      <td>...</td>\n",
       "    </tr>\n",
       "    <tr>\n",
       "      <th>993</th>\n",
       "      <td>female</td>\n",
       "      <td>group D</td>\n",
       "      <td>bachelor's degree</td>\n",
       "      <td>free/reduced</td>\n",
       "      <td>none</td>\n",
       "      <td>62</td>\n",
       "      <td>72</td>\n",
       "      <td>74</td>\n",
       "    </tr>\n",
       "    <tr>\n",
       "      <th>995</th>\n",
       "      <td>female</td>\n",
       "      <td>group E</td>\n",
       "      <td>master's degree</td>\n",
       "      <td>standard</td>\n",
       "      <td>completed</td>\n",
       "      <td>88</td>\n",
       "      <td>99</td>\n",
       "      <td>95</td>\n",
       "    </tr>\n",
       "    <tr>\n",
       "      <th>997</th>\n",
       "      <td>female</td>\n",
       "      <td>group C</td>\n",
       "      <td>high school</td>\n",
       "      <td>free/reduced</td>\n",
       "      <td>completed</td>\n",
       "      <td>59</td>\n",
       "      <td>71</td>\n",
       "      <td>65</td>\n",
       "    </tr>\n",
       "    <tr>\n",
       "      <th>998</th>\n",
       "      <td>female</td>\n",
       "      <td>group D</td>\n",
       "      <td>some college</td>\n",
       "      <td>standard</td>\n",
       "      <td>completed</td>\n",
       "      <td>68</td>\n",
       "      <td>78</td>\n",
       "      <td>77</td>\n",
       "    </tr>\n",
       "    <tr>\n",
       "      <th>999</th>\n",
       "      <td>female</td>\n",
       "      <td>group D</td>\n",
       "      <td>some college</td>\n",
       "      <td>free/reduced</td>\n",
       "      <td>none</td>\n",
       "      <td>77</td>\n",
       "      <td>86</td>\n",
       "      <td>86</td>\n",
       "    </tr>\n",
       "  </tbody>\n",
       "</table>\n",
       "<p>518 rows × 8 columns</p>\n",
       "</div>"
      ],
      "text/plain": [
       "     gender race_ethnicity parental_level_of_education         lunch  \\\n",
       "0    female        group B           bachelor's degree      standard   \n",
       "1    female        group C                some college      standard   \n",
       "2    female        group B             master's degree      standard   \n",
       "5    female        group B          associate's degree      standard   \n",
       "6    female        group B                some college      standard   \n",
       "..      ...            ...                         ...           ...   \n",
       "993  female        group D           bachelor's degree  free/reduced   \n",
       "995  female        group E             master's degree      standard   \n",
       "997  female        group C                 high school  free/reduced   \n",
       "998  female        group D                some college      standard   \n",
       "999  female        group D                some college  free/reduced   \n",
       "\n",
       "     test_prep  math_score  reading_score  writing_score  \n",
       "0         none          72             72             74  \n",
       "1    completed          69             90             88  \n",
       "2         none          90             95             93  \n",
       "5         none          71             83             78  \n",
       "6    completed          88             95             92  \n",
       "..         ...         ...            ...            ...  \n",
       "993       none          62             72             74  \n",
       "995  completed          88             99             95  \n",
       "997  completed          59             71             65  \n",
       "998  completed          68             78             77  \n",
       "999       none          77             86             86  \n",
       "\n",
       "[518 rows x 8 columns]"
      ]
     },
     "execution_count": 14,
     "metadata": {},
     "output_type": "execute_result"
    }
   ],
   "source": [
    "female = perform.query(\"gender == 'female'\")\n",
    "female"
   ]
  },
  {
   "cell_type": "markdown",
   "id": "00307c46",
   "metadata": {},
   "source": [
    "<a id ='pieplot'></a>\n",
    "# Pie plots "
   ]
  },
  {
   "cell_type": "code",
   "execution_count": 15,
   "id": "e793d0c4",
   "metadata": {
    "scrolled": true
   },
   "outputs": [
    {
     "data": {
      "image/png": "[encoded data removed]",
      "text/plain": [
       "<Figure size 432x288 with 1 Axes>"
      ]
     },
     "metadata": {},
     "output_type": "display_data"
    }
   ],
   "source": [
    "#Checking the race percentage for the female population\n",
    "femrace = female['race_ethnicity'].value_counts()\n",
    "plt.pie(femrace, labels = femrace.index, autopct = '%0.0f%%')\n",
    "plt.show()"
   ]
  },
  {
   "cell_type": "markdown",
   "id": "6a57f038",
   "metadata": {},
   "source": [
    "There are more females in group C compared to other races"
   ]
  },
  {
   "cell_type": "code",
   "execution_count": 16,
   "id": "1376ab8b",
   "metadata": {
    "scrolled": true
   },
   "outputs": [
    {
     "data": {
      "image/png": "[encoded data removed]",
      "text/plain": [
       "<Figure size 432x288 with 1 Axes>"
      ]
     },
     "metadata": {},
     "output_type": "display_data"
    }
   ],
   "source": [
    "femtest = female['test_prep'].value_counts()\n",
    "plt.pie(femtest, labels = femtest.index, autopct = '%0.0f%%')\n",
    "plt.show()"
   ]
  },
  {
   "cell_type": "markdown",
   "id": "aa20e4f2",
   "metadata": {},
   "source": [
    "A significant portion of the females did not take the test preparation course"
   ]
  },
  {
   "cell_type": "code",
   "execution_count": 17,
   "id": "df176524",
   "metadata": {
    "scrolled": true
   },
   "outputs": [
    {
     "data": {
      "text/html": [
       "<div>\n",
       "<style scoped>\n",
       "    .dataframe tbody tr th:only-of-type {\n",
       "        vertical-align: middle;\n",
       "    }\n",
       "\n",
       "    .dataframe tbody tr th {\n",
       "        vertical-align: top;\n",
       "    }\n",
       "\n",
       "    .dataframe thead th {\n",
       "        text-align: right;\n",
       "    }\n",
       "</style>\n",
       "<table border=\"1\" class=\"dataframe\">\n",
       "  <thead>\n",
       "    <tr style=\"text-align: right;\">\n",
       "      <th></th>\n",
       "      <th>gender</th>\n",
       "      <th>race_ethnicity</th>\n",
       "      <th>parental_level_of_education</th>\n",
       "      <th>lunch</th>\n",
       "      <th>test_prep</th>\n",
       "      <th>math_score</th>\n",
       "      <th>reading_score</th>\n",
       "      <th>writing_score</th>\n",
       "    </tr>\n",
       "  </thead>\n",
       "  <tbody>\n",
       "    <tr>\n",
       "      <th>3</th>\n",
       "      <td>male</td>\n",
       "      <td>group A</td>\n",
       "      <td>associate's degree</td>\n",
       "      <td>free/reduced</td>\n",
       "      <td>none</td>\n",
       "      <td>47</td>\n",
       "      <td>57</td>\n",
       "      <td>44</td>\n",
       "    </tr>\n",
       "    <tr>\n",
       "      <th>4</th>\n",
       "      <td>male</td>\n",
       "      <td>group C</td>\n",
       "      <td>some college</td>\n",
       "      <td>standard</td>\n",
       "      <td>none</td>\n",
       "      <td>76</td>\n",
       "      <td>78</td>\n",
       "      <td>75</td>\n",
       "    </tr>\n",
       "    <tr>\n",
       "      <th>7</th>\n",
       "      <td>male</td>\n",
       "      <td>group B</td>\n",
       "      <td>some college</td>\n",
       "      <td>free/reduced</td>\n",
       "      <td>none</td>\n",
       "      <td>40</td>\n",
       "      <td>43</td>\n",
       "      <td>39</td>\n",
       "    </tr>\n",
       "    <tr>\n",
       "      <th>8</th>\n",
       "      <td>male</td>\n",
       "      <td>group D</td>\n",
       "      <td>high school</td>\n",
       "      <td>free/reduced</td>\n",
       "      <td>completed</td>\n",
       "      <td>64</td>\n",
       "      <td>64</td>\n",
       "      <td>67</td>\n",
       "    </tr>\n",
       "    <tr>\n",
       "      <th>10</th>\n",
       "      <td>male</td>\n",
       "      <td>group C</td>\n",
       "      <td>associate's degree</td>\n",
       "      <td>standard</td>\n",
       "      <td>none</td>\n",
       "      <td>58</td>\n",
       "      <td>54</td>\n",
       "      <td>52</td>\n",
       "    </tr>\n",
       "    <tr>\n",
       "      <th>...</th>\n",
       "      <td>...</td>\n",
       "      <td>...</td>\n",
       "      <td>...</td>\n",
       "      <td>...</td>\n",
       "      <td>...</td>\n",
       "      <td>...</td>\n",
       "      <td>...</td>\n",
       "      <td>...</td>\n",
       "    </tr>\n",
       "    <tr>\n",
       "      <th>985</th>\n",
       "      <td>male</td>\n",
       "      <td>group A</td>\n",
       "      <td>high school</td>\n",
       "      <td>standard</td>\n",
       "      <td>none</td>\n",
       "      <td>57</td>\n",
       "      <td>51</td>\n",
       "      <td>54</td>\n",
       "    </tr>\n",
       "    <tr>\n",
       "      <th>987</th>\n",
       "      <td>male</td>\n",
       "      <td>group E</td>\n",
       "      <td>some high school</td>\n",
       "      <td>standard</td>\n",
       "      <td>completed</td>\n",
       "      <td>81</td>\n",
       "      <td>75</td>\n",
       "      <td>76</td>\n",
       "    </tr>\n",
       "    <tr>\n",
       "      <th>990</th>\n",
       "      <td>male</td>\n",
       "      <td>group E</td>\n",
       "      <td>high school</td>\n",
       "      <td>free/reduced</td>\n",
       "      <td>completed</td>\n",
       "      <td>86</td>\n",
       "      <td>81</td>\n",
       "      <td>75</td>\n",
       "    </tr>\n",
       "    <tr>\n",
       "      <th>994</th>\n",
       "      <td>male</td>\n",
       "      <td>group A</td>\n",
       "      <td>high school</td>\n",
       "      <td>standard</td>\n",
       "      <td>none</td>\n",
       "      <td>63</td>\n",
       "      <td>63</td>\n",
       "      <td>62</td>\n",
       "    </tr>\n",
       "    <tr>\n",
       "      <th>996</th>\n",
       "      <td>male</td>\n",
       "      <td>group C</td>\n",
       "      <td>high school</td>\n",
       "      <td>free/reduced</td>\n",
       "      <td>none</td>\n",
       "      <td>62</td>\n",
       "      <td>55</td>\n",
       "      <td>55</td>\n",
       "    </tr>\n",
       "  </tbody>\n",
       "</table>\n",
       "<p>482 rows × 8 columns</p>\n",
       "</div>"
      ],
      "text/plain": [
       "    gender race_ethnicity parental_level_of_education         lunch  \\\n",
       "3     male        group A          associate's degree  free/reduced   \n",
       "4     male        group C                some college      standard   \n",
       "7     male        group B                some college  free/reduced   \n",
       "8     male        group D                 high school  free/reduced   \n",
       "10    male        group C          associate's degree      standard   \n",
       "..     ...            ...                         ...           ...   \n",
       "985   male        group A                 high school      standard   \n",
       "987   male        group E            some high school      standard   \n",
       "990   male        group E                 high school  free/reduced   \n",
       "994   male        group A                 high school      standard   \n",
       "996   male        group C                 high school  free/reduced   \n",
       "\n",
       "     test_prep  math_score  reading_score  writing_score  \n",
       "3         none          47             57             44  \n",
       "4         none          76             78             75  \n",
       "7         none          40             43             39  \n",
       "8    completed          64             64             67  \n",
       "10        none          58             54             52  \n",
       "..         ...         ...            ...            ...  \n",
       "985       none          57             51             54  \n",
       "987  completed          81             75             76  \n",
       "990  completed          86             81             75  \n",
       "994       none          63             63             62  \n",
       "996       none          62             55             55  \n",
       "\n",
       "[482 rows x 8 columns]"
      ]
     },
     "execution_count": 17,
     "metadata": {},
     "output_type": "execute_result"
    }
   ],
   "source": [
    "male = perform.query(\"gender == 'male'\")\n",
    "male"
   ]
  },
  {
   "cell_type": "code",
   "execution_count": 18,
   "id": "94bcd227",
   "metadata": {
    "scrolled": true
   },
   "outputs": [
    {
     "data": {
      "image/png": "[encoded data removed]",
      "text/plain": [
       "<Figure size 432x288 with 1 Axes>"
      ]
     },
     "metadata": {},
     "output_type": "display_data"
    }
   ],
   "source": [
    "#Checking the race percentage for the male population\n",
    "malerace = male['race_ethnicity'].value_counts()\n",
    "plt.pie(malerace, labels = malerace.index, autopct = '%0.0f%%')\n",
    "plt.show()"
   ]
  },
  {
   "cell_type": "code",
   "execution_count": 19,
   "id": "a3c53676",
   "metadata": {
    "scrolled": true
   },
   "outputs": [
    {
     "data": {
      "image/png": "[encoded data removed]",
      "text/plain": [
       "<Figure size 432x288 with 1 Axes>"
      ]
     },
     "metadata": {},
     "output_type": "display_data"
    }
   ],
   "source": [
    "maletest = male['test_prep'].value_counts()\n",
    "plt.pie(maletest, labels = maletest.index, autopct = '%0.0f%%')\n",
    "plt.show()"
   ]
  },
  {
   "cell_type": "markdown",
   "id": "ae0eba78",
   "metadata": {},
   "source": [
    "Likewise, a significant portion of the males did not take the test preparation course"
   ]
  },
  {
   "cell_type": "markdown",
   "id": "e00085b9",
   "metadata": {},
   "source": [
    "<a id = 'boxplot'></a>\n",
    "# Boxplots"
   ]
  },
  {
   "cell_type": "code",
   "execution_count": 20,
   "id": "d7538bd1",
   "metadata": {
    "scrolled": false
   },
   "outputs": [
    {
     "data": {
      "image/png": "[encoded data removed]",
      "text/plain": [
       "<Figure size 576x576 with 1 Axes>"
      ]
     },
     "metadata": {
      "needs_background": "light"
     },
     "output_type": "display_data"
    }
   ],
   "source": [
    "ax = plt.figure(figsize = (8,8))\n",
    "ax = sn.boxplot(x = 'race_ethnicity', y ='reading_score', hue = 'gender',palette = 'rainbow', data= perform)\n",
    "ax = sn.despine()\n",
    "ax = plt.title('Plot showing the Reading score of each gender by race')\n",
    "plt.show()"
   ]
  },
  {
   "cell_type": "markdown",
   "id": "d23b504f",
   "metadata": {},
   "source": [
    "This shows that female students perform better at reading tests than male students. "
   ]
  },
  {
   "cell_type": "code",
   "execution_count": 23,
   "id": "70ce185d",
   "metadata": {
    "scrolled": false
   },
   "outputs": [
    {
     "data": {
      "image/png": "[encoded data removed]",
      "text/plain": [
       "<Figure size 576x576 with 1 Axes>"
      ]
     },
     "metadata": {
      "needs_background": "light"
     },
     "output_type": "display_data"
    }
   ],
   "source": [
    "ax = plt.figure(figsize = (8,8))\n",
    "ax = sn.boxplot(x = 'race_ethnicity', y ='math_score', hue = 'gender',palette = 'coolwarm', data= perform)\n",
    "ax = sn.despine()\n",
    "ax = plt.title('Plot showing the Math score of each gender by race')\n",
    "plt.show()"
   ]
  },
  {
   "cell_type": "markdown",
   "id": "84eb871b",
   "metadata": {},
   "source": [
    "The median for males is higher than females. From this data, male students perform better at math than female students"
   ]
  },
  {
   "cell_type": "code",
   "execution_count": 25,
   "id": "81a45864",
   "metadata": {},
   "outputs": [
    {
     "data": {
      "image/png": "[encoded data removed]",
      "text/plain": [
       "<Figure size 576x576 with 1 Axes>"
      ]
     },
     "metadata": {
      "needs_background": "light"
     },
     "output_type": "display_data"
    }
   ],
   "source": [
    "ax = plt.figure(figsize = (8,8))\n",
    "ax = sn.boxplot(x = 'race_ethnicity', y ='writing_score', hue = 'gender',palette = 'flare', data= perform)\n",
    "ax = sn.despine()\n",
    "ax = plt.title('Plot showing the Writing score of each gender by race')\n",
    "plt.show()"
   ]
  },
  {
   "cell_type": "markdown",
   "id": "58be82cb",
   "metadata": {},
   "source": [
    "The median score for female students is higher than those of male students. We can conclude on an average than female doe better at writing than males from this dataset."
   ]
  },
  {
   "cell_type": "markdown",
   "id": "361dbe92",
   "metadata": {},
   "source": [
    "<a id ='scatterplot'></a>\n",
    "# Scatter Plots"
   ]
  },
  {
   "cell_type": "code",
   "execution_count": 33,
   "id": "220c1b14",
   "metadata": {
    "scrolled": true
   },
   "outputs": [
    {
     "data": {
      "image/png": "[encoded data removed]",
      "text/plain": [
       "<Figure size 432x288 with 1 Axes>"
      ]
     },
     "metadata": {
      "needs_background": "light"
     },
     "output_type": "display_data"
    }
   ],
   "source": [
    "plt.scatter(perform['math_score'], perform['reading_score'], color = 'purple', alpha = 0.5)\n",
    "plt.xlabel('Math')\n",
    "plt.ylabel('Reading')\n",
    "plt.show()"
   ]
  },
  {
   "cell_type": "code",
   "execution_count": 34,
   "id": "7d25a256",
   "metadata": {
    "scrolled": true
   },
   "outputs": [
    {
     "data": {
      "image/png": "[encoded data removed]",
      "text/plain": [
       "<Figure size 432x288 with 1 Axes>"
      ]
     },
     "metadata": {
      "needs_background": "light"
     },
     "output_type": "display_data"
    }
   ],
   "source": [
    "plt.scatter(perform['writing_score'], perform['reading_score'], color = 'blue', alpha = 0.5)\n",
    "plt.xlabel('Writing')\n",
    "plt.ylabel('Reading')\n",
    "plt.show()"
   ]
  },
  {
   "cell_type": "code",
   "execution_count": 35,
   "id": "906136c9",
   "metadata": {
    "scrolled": false
   },
   "outputs": [
    {
     "data": {
      "image/png": "[encoded data removed]",
      "text/plain": [
       "<Figure size 432x288 with 1 Axes>"
      ]
     },
     "metadata": {
      "needs_background": "light"
     },
     "output_type": "display_data"
    }
   ],
   "source": [
    "plt.scatter(perform['math_score'], perform['writing_score'], color = 'green', alpha = 0.5)\n",
    "plt.xlabel('Math')\n",
    "plt.ylabel('Writing')\n",
    "plt.show()"
   ]
  },
  {
   "cell_type": "markdown",
   "id": "9dd7346a",
   "metadata": {},
   "source": [
    "This shows a positive correlation between all the test scores. Meaning if a student passes one test, he /she is likely to pass the others"
   ]
  },
  {
   "cell_type": "markdown",
   "id": "524c054d",
   "metadata": {},
   "source": [
    "## <a href = '#top' style = 'text-decoration: none'>Back to the top</a>"
   ]
  }
 ],
 "metadata": {
  "kernelspec": {
   "display_name": "Python 3 (ipykernel)",
   "language": "python",
   "name": "python3"
  },
  "language_info": {
   "codemirror_mode": {
    "name": "ipython",
    "version": 3
   },
   "file_extension": ".py",
   "mimetype": "text/x-python",
   "name": "python",
   "nbconvert_exporter": "python",
   "pygments_lexer": "ipython3",
   "version": "3.9.7"
  }
 },
 "nbformat": 4,
 "nbformat_minor": 5
}
