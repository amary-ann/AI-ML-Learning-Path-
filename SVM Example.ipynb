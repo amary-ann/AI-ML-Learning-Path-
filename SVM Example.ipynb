{
 "cells": [
  {
   "cell_type": "markdown",
   "id": "fb8691f9",
   "metadata": {},
   "source": [
    "# Fish market dataset\n",
    "This contains records of 7 different species of fish in fish market sales. \n",
    "- Link to dataset: https://www.kaggle.com/datasets/aungpyaeap/fish-market"
   ]
  },
  {
   "cell_type": "code",
   "execution_count": 1,
   "id": "5a9ac52a",
   "metadata": {},
   "outputs": [],
   "source": [
    "#import needed libraries\n",
    "import numpy as np\n",
    "import pandas as pd\n",
    "import matplotlib.pyplot as plt\n",
    "import seaborn as sb"
   ]
  },
  {
   "cell_type": "code",
   "execution_count": 2,
   "id": "60e43e99",
   "metadata": {},
   "outputs": [],
   "source": [
    "#load data into a dataframe\n",
    "\n",
    "fish = pd.read_csv(\"archive_fish/Fish.csv\")"
   ]
  },
  {
   "cell_type": "code",
   "execution_count": 3,
   "id": "a91d3726",
   "metadata": {},
   "outputs": [
    {
     "data": {
      "text/html": [
       "<div>\n",
       "<style scoped>\n",
       "    .dataframe tbody tr th:only-of-type {\n",
       "        vertical-align: middle;\n",
       "    }\n",
       "\n",
       "    .dataframe tbody tr th {\n",
       "        vertical-align: top;\n",
       "    }\n",
       "\n",
       "    .dataframe thead th {\n",
       "        text-align: right;\n",
       "    }\n",
       "</style>\n",
       "<table border=\"1\" class=\"dataframe\">\n",
       "  <thead>\n",
       "    <tr style=\"text-align: right;\">\n",
       "      <th></th>\n",
       "      <th>Species</th>\n",
       "      <th>Weight</th>\n",
       "      <th>Length1</th>\n",
       "      <th>Length2</th>\n",
       "      <th>Length3</th>\n",
       "      <th>Height</th>\n",
       "      <th>Width</th>\n",
       "    </tr>\n",
       "  </thead>\n",
       "  <tbody>\n",
       "    <tr>\n",
       "      <th>0</th>\n",
       "      <td>Bream</td>\n",
       "      <td>242.0</td>\n",
       "      <td>23.2</td>\n",
       "      <td>25.4</td>\n",
       "      <td>30.0</td>\n",
       "      <td>11.5200</td>\n",
       "      <td>4.0200</td>\n",
       "    </tr>\n",
       "    <tr>\n",
       "      <th>1</th>\n",
       "      <td>Bream</td>\n",
       "      <td>290.0</td>\n",
       "      <td>24.0</td>\n",
       "      <td>26.3</td>\n",
       "      <td>31.2</td>\n",
       "      <td>12.4800</td>\n",
       "      <td>4.3056</td>\n",
       "    </tr>\n",
       "    <tr>\n",
       "      <th>2</th>\n",
       "      <td>Bream</td>\n",
       "      <td>340.0</td>\n",
       "      <td>23.9</td>\n",
       "      <td>26.5</td>\n",
       "      <td>31.1</td>\n",
       "      <td>12.3778</td>\n",
       "      <td>4.6961</td>\n",
       "    </tr>\n",
       "    <tr>\n",
       "      <th>3</th>\n",
       "      <td>Bream</td>\n",
       "      <td>363.0</td>\n",
       "      <td>26.3</td>\n",
       "      <td>29.0</td>\n",
       "      <td>33.5</td>\n",
       "      <td>12.7300</td>\n",
       "      <td>4.4555</td>\n",
       "    </tr>\n",
       "    <tr>\n",
       "      <th>4</th>\n",
       "      <td>Bream</td>\n",
       "      <td>430.0</td>\n",
       "      <td>26.5</td>\n",
       "      <td>29.0</td>\n",
       "      <td>34.0</td>\n",
       "      <td>12.4440</td>\n",
       "      <td>5.1340</td>\n",
       "    </tr>\n",
       "  </tbody>\n",
       "</table>\n",
       "</div>"
      ],
      "text/plain": [
       "  Species  Weight  Length1  Length2  Length3   Height   Width\n",
       "0   Bream   242.0     23.2     25.4     30.0  11.5200  4.0200\n",
       "1   Bream   290.0     24.0     26.3     31.2  12.4800  4.3056\n",
       "2   Bream   340.0     23.9     26.5     31.1  12.3778  4.6961\n",
       "3   Bream   363.0     26.3     29.0     33.5  12.7300  4.4555\n",
       "4   Bream   430.0     26.5     29.0     34.0  12.4440  5.1340"
      ]
     },
     "execution_count": 3,
     "metadata": {},
     "output_type": "execute_result"
    }
   ],
   "source": [
    "#view dataset\n",
    "fish.head()"
   ]
  },
  {
   "cell_type": "code",
   "execution_count": 4,
   "id": "ea124f91",
   "metadata": {},
   "outputs": [
    {
     "name": "stdout",
     "output_type": "stream",
     "text": [
      "<class 'pandas.core.frame.DataFrame'>\n",
      "RangeIndex: 159 entries, 0 to 158\n",
      "Data columns (total 7 columns):\n",
      " #   Column   Non-Null Count  Dtype  \n",
      "---  ------   --------------  -----  \n",
      " 0   Species  159 non-null    object \n",
      " 1   Weight   159 non-null    float64\n",
      " 2   Length1  159 non-null    float64\n",
      " 3   Length2  159 non-null    float64\n",
      " 4   Length3  159 non-null    float64\n",
      " 5   Height   159 non-null    float64\n",
      " 6   Width    159 non-null    float64\n",
      "dtypes: float64(6), object(1)\n",
      "memory usage: 8.8+ KB\n"
     ]
    }
   ],
   "source": [
    "fish.info()"
   ]
  },
  {
   "cell_type": "code",
   "execution_count": 5,
   "id": "6ce9604c",
   "metadata": {},
   "outputs": [
    {
     "data": {
      "text/plain": [
       "0"
      ]
     },
     "execution_count": 5,
     "metadata": {},
     "output_type": "execute_result"
    }
   ],
   "source": [
    "fish.duplicated().sum()"
   ]
  },
  {
   "cell_type": "code",
   "execution_count": 6,
   "id": "04cb043c",
   "metadata": {},
   "outputs": [
    {
     "data": {
      "image/png": "[encoded data removed]",
      "text/plain": [
       "<Figure size 576x576 with 6 Axes>"
      ]
     },
     "metadata": {
      "needs_background": "light"
     },
     "output_type": "display_data"
    }
   ],
   "source": [
    "fish.hist(bins = 50, figsize = (8,8))\n",
    "plt.show()"
   ]
  },
  {
   "cell_type": "code",
   "execution_count": 7,
   "id": "36f93be6",
   "metadata": {
    "scrolled": false
   },
   "outputs": [
    {
     "data": {
      "image/png": "[encoded data removed]",
      "text/plain": [
       "<Figure size 432x288 with 1 Axes>"
      ]
     },
     "metadata": {
      "needs_background": "light"
     },
     "output_type": "display_data"
    }
   ],
   "source": [
    "sb.countplot(x = 'Species', data = fish, palette = 'Set1', order = fish['Species'].value_counts().index)\n",
    "\n",
    "plt.xlabel('Fish Species')\n",
    "plt.ylabel('Count');\n"
   ]
  },
  {
   "cell_type": "code",
   "execution_count": 8,
   "id": "e266a575",
   "metadata": {},
   "outputs": [
    {
     "data": {
      "image/png": "[encoded data removed]",
      "text/plain": [
       "<Figure size 864x576 with 36 Axes>"
      ]
     },
     "metadata": {
      "needs_background": "light"
     },
     "output_type": "display_data"
    }
   ],
   "source": [
    "from pandas.plotting import scatter_matrix \n",
    "\n",
    "attr = ['Weight', 'Length1', 'Length2', 'Length3', 'Height', 'Width']\n",
    "\n",
    "scatter_matrix(fish[attr], figsize = (12,8));"
   ]
  },
  {
   "cell_type": "code",
   "execution_count": 9,
   "id": "3e45a8ae",
   "metadata": {
    "scrolled": true
   },
   "outputs": [
    {
     "data": {
      "text/html": [
       "<div>\n",
       "<style scoped>\n",
       "    .dataframe tbody tr th:only-of-type {\n",
       "        vertical-align: middle;\n",
       "    }\n",
       "\n",
       "    .dataframe tbody tr th {\n",
       "        vertical-align: top;\n",
       "    }\n",
       "\n",
       "    .dataframe thead th {\n",
       "        text-align: right;\n",
       "    }\n",
       "</style>\n",
       "<table border=\"1\" class=\"dataframe\">\n",
       "  <thead>\n",
       "    <tr style=\"text-align: right;\">\n",
       "      <th></th>\n",
       "      <th>Weight</th>\n",
       "      <th>Length1</th>\n",
       "      <th>Length2</th>\n",
       "      <th>Length3</th>\n",
       "      <th>Height</th>\n",
       "      <th>Width</th>\n",
       "    </tr>\n",
       "  </thead>\n",
       "  <tbody>\n",
       "    <tr>\n",
       "      <th>count</th>\n",
       "      <td>159.000000</td>\n",
       "      <td>159.000000</td>\n",
       "      <td>159.000000</td>\n",
       "      <td>159.000000</td>\n",
       "      <td>159.000000</td>\n",
       "      <td>159.000000</td>\n",
       "    </tr>\n",
       "    <tr>\n",
       "      <th>mean</th>\n",
       "      <td>398.326415</td>\n",
       "      <td>26.247170</td>\n",
       "      <td>28.415723</td>\n",
       "      <td>31.227044</td>\n",
       "      <td>8.970994</td>\n",
       "      <td>4.417486</td>\n",
       "    </tr>\n",
       "    <tr>\n",
       "      <th>std</th>\n",
       "      <td>357.978317</td>\n",
       "      <td>9.996441</td>\n",
       "      <td>10.716328</td>\n",
       "      <td>11.610246</td>\n",
       "      <td>4.286208</td>\n",
       "      <td>1.685804</td>\n",
       "    </tr>\n",
       "    <tr>\n",
       "      <th>min</th>\n",
       "      <td>0.000000</td>\n",
       "      <td>7.500000</td>\n",
       "      <td>8.400000</td>\n",
       "      <td>8.800000</td>\n",
       "      <td>1.728400</td>\n",
       "      <td>1.047600</td>\n",
       "    </tr>\n",
       "    <tr>\n",
       "      <th>25%</th>\n",
       "      <td>120.000000</td>\n",
       "      <td>19.050000</td>\n",
       "      <td>21.000000</td>\n",
       "      <td>23.150000</td>\n",
       "      <td>5.944800</td>\n",
       "      <td>3.385650</td>\n",
       "    </tr>\n",
       "    <tr>\n",
       "      <th>50%</th>\n",
       "      <td>273.000000</td>\n",
       "      <td>25.200000</td>\n",
       "      <td>27.300000</td>\n",
       "      <td>29.400000</td>\n",
       "      <td>7.786000</td>\n",
       "      <td>4.248500</td>\n",
       "    </tr>\n",
       "    <tr>\n",
       "      <th>75%</th>\n",
       "      <td>650.000000</td>\n",
       "      <td>32.700000</td>\n",
       "      <td>35.500000</td>\n",
       "      <td>39.650000</td>\n",
       "      <td>12.365900</td>\n",
       "      <td>5.584500</td>\n",
       "    </tr>\n",
       "    <tr>\n",
       "      <th>max</th>\n",
       "      <td>1650.000000</td>\n",
       "      <td>59.000000</td>\n",
       "      <td>63.400000</td>\n",
       "      <td>68.000000</td>\n",
       "      <td>18.957000</td>\n",
       "      <td>8.142000</td>\n",
       "    </tr>\n",
       "  </tbody>\n",
       "</table>\n",
       "</div>"
      ],
      "text/plain": [
       "            Weight     Length1     Length2     Length3      Height       Width\n",
       "count   159.000000  159.000000  159.000000  159.000000  159.000000  159.000000\n",
       "mean    398.326415   26.247170   28.415723   31.227044    8.970994    4.417486\n",
       "std     357.978317    9.996441   10.716328   11.610246    4.286208    1.685804\n",
       "min       0.000000    7.500000    8.400000    8.800000    1.728400    1.047600\n",
       "25%     120.000000   19.050000   21.000000   23.150000    5.944800    3.385650\n",
       "50%     273.000000   25.200000   27.300000   29.400000    7.786000    4.248500\n",
       "75%     650.000000   32.700000   35.500000   39.650000   12.365900    5.584500\n",
       "max    1650.000000   59.000000   63.400000   68.000000   18.957000    8.142000"
      ]
     },
     "execution_count": 9,
     "metadata": {},
     "output_type": "execute_result"
    }
   ],
   "source": [
    "fish.describe()"
   ]
  },
  {
   "cell_type": "code",
   "execution_count": 10,
   "id": "8f1c2022",
   "metadata": {},
   "outputs": [],
   "source": [
    "#getting the input and labels\n",
    "x = fish.drop(['Species'], axis = 1)\n",
    "y = fish['Species']"
   ]
  },
  {
   "cell_type": "markdown",
   "id": "cbe43cb8",
   "metadata": {},
   "source": [
    "# Using Scikit-learn"
   ]
  },
  {
   "cell_type": "code",
   "execution_count": 11,
   "id": "ae15e063",
   "metadata": {},
   "outputs": [],
   "source": [
    "#split the data into training and testing data\n",
    "from sklearn.model_selection import train_test_split\n",
    "x_train, x_test, y_train, y_test = train_test_split(x, y, test_size = 0.2, random_state = 42)"
   ]
  },
  {
   "cell_type": "code",
   "execution_count": 12,
   "id": "a3749e9a",
   "metadata": {},
   "outputs": [],
   "source": [
    "from sklearn.svm import SVC\n",
    "#instantiate linear SVC object\n",
    "model = SVC(kernel = 'linear', C = 1)"
   ]
  },
  {
   "cell_type": "code",
   "execution_count": 13,
   "id": "ccbbb880",
   "metadata": {},
   "outputs": [
    {
     "data": {
      "text/plain": [
       "SVC(C=1, kernel='linear')"
      ]
     },
     "execution_count": 13,
     "metadata": {},
     "output_type": "execute_result"
    }
   ],
   "source": [
    "#train the linear SVC Classifier with training data\n",
    "model.fit(x_train, y_train)"
   ]
  },
  {
   "cell_type": "code",
   "execution_count": 14,
   "id": "7a4c1891",
   "metadata": {},
   "outputs": [
    {
     "name": "stdout",
     "output_type": "stream",
     "text": [
      "Predictions:\n",
      " ['Perch' 'Smelt' 'Pike' 'Roach' 'Perch' 'Bream' 'Smelt' 'Roach' 'Perch'\n",
      " 'Pike' 'Bream' 'Whitefish' 'Bream' 'Parkki' 'Bream' 'Bream' 'Perch'\n",
      " 'Perch' 'Perch' 'Bream' 'Smelt' 'Bream' 'Bream' 'Bream' 'Bream' 'Perch'\n",
      " 'Perch' 'Roach' 'Smelt' 'Smelt' 'Pike' 'Perch']\n",
      "\n",
      "\n",
      "Labels:\n",
      " ['Perch', 'Smelt', 'Pike', 'Whitefish', 'Perch', 'Bream', 'Smelt', 'Roach', 'Perch', 'Pike', 'Bream', 'Whitefish', 'Bream', 'Parkki', 'Bream', 'Bream', 'Perch', 'Perch', 'Perch', 'Bream', 'Smelt', 'Bream', 'Bream', 'Bream', 'Bream', 'Perch', 'Perch', 'Whitefish', 'Smelt', 'Smelt', 'Pike', 'Perch']\n"
     ]
    }
   ],
   "source": [
    "#make predictions\n",
    "svm_pred = model.predict(x_test)\n",
    "print('Predictions:\\n', svm_pred)\n",
    "print(\"\\n\")\n",
    "print('Labels:\\n', list(y_test))"
   ]
  },
  {
   "cell_type": "code",
   "execution_count": 16,
   "id": "daa35aa7",
   "metadata": {},
   "outputs": [
    {
     "data": {
      "text/plain": [
       "0.9375"
      ]
     },
     "execution_count": 16,
     "metadata": {},
     "output_type": "execute_result"
    }
   ],
   "source": [
    "#check accuracy\n",
    "model.score(x_test, y_test)"
   ]
  },
  {
   "cell_type": "markdown",
   "id": "26a9cb88",
   "metadata": {},
   "source": [
    "# Using Tensorflow"
   ]
  },
  {
   "cell_type": "code",
   "execution_count": 18,
   "id": "97a1edfe",
   "metadata": {
    "scrolled": true
   },
   "outputs": [
    {
     "name": "stdout",
     "output_type": "stream",
     "text": [
      "do nothing\n"
     ]
    }
   ],
   "source": [
    "import tensorflow as tf\n",
    "if tf.__version__ == '2.11.0':\n",
    "    print('do nothing')\n",
    "else:\n",
    "    !pip install tensorflow"
   ]
  },
  {
   "cell_type": "markdown",
   "id": "89be4836",
   "metadata": {},
   "source": [
    "import tensorflow as tf\n",
    "\n",
    "#start graph session\n",
    "sess = tf.compat.v1.Session()"
   ]
  },
  {
   "cell_type": "markdown",
   "id": "fd51dacd",
   "metadata": {},
   "source": [
    "#classify data into features and labels\n",
    "x_val = np.array([[x[1:7]] for x in fish.to_numpy()])\n",
    "y_val = np.array([1 if y == 'Bream' else -1 for y in fish.Species])"
   ]
  },
  {
   "cell_type": "code",
   "execution_count": 19,
   "id": "bfc90274",
   "metadata": {
    "scrolled": true
   },
   "outputs": [
    {
     "data": {
      "text/plain": [
       "73     0\n",
       "104    0\n",
       "155    0\n",
       "25     1\n",
       "30     1\n",
       "45     0\n",
       "131    0\n",
       "2      1\n",
       "146    0\n",
       "157    0\n",
       "Name: Species, dtype: int64"
      ]
     },
     "execution_count": 19,
     "metadata": {},
     "output_type": "execute_result"
    }
   ],
   "source": [
    "fish['Species'] = fish['Species'].apply(lambda x: 1 if x ==\"Bream\" else 0)\n",
    "fish['Species'].sample(10)"
   ]
  },
  {
   "cell_type": "code",
   "execution_count": 33,
   "id": "d2819c39",
   "metadata": {},
   "outputs": [],
   "source": [
    "x_data = fish[['Weight','Length1','Length2','Length3','Height','Width']]\n",
    "y_data = fish[['Species']]"
   ]
  },
  {
   "cell_type": "code",
   "execution_count": 34,
   "id": "24d19086",
   "metadata": {},
   "outputs": [],
   "source": [
    "from sklearn.model_selection import train_test_split\n",
    "\n",
    "X_train, X_test, Y_train, Y_test = train_test_split(x_data, y_data, test_size = 0.2, random_state = 42)"
   ]
  },
  {
   "cell_type": "code",
   "execution_count": 36,
   "id": "9d3e7c98",
   "metadata": {},
   "outputs": [],
   "source": [
    "from tensorflow.keras.models import Sequential\n",
    "from tensorflow.keras.layers import Dense "
   ]
  },
  {
   "cell_type": "markdown",
   "id": "5b6d85ea",
   "metadata": {},
   "source": [
    "## Neural network model"
   ]
  },
  {
   "cell_type": "markdown",
   "id": "3070b69c",
   "metadata": {},
   "source": [
    "<b>relu</b> is a commonly used linear activation function <br>\n",
    "<b>sigmoid</b> is used as in the last layer because we're dealing with binary classification"
   ]
  },
  {
   "cell_type": "code",
   "execution_count": 37,
   "id": "6ceab070",
   "metadata": {},
   "outputs": [],
   "source": [
    "model = Sequential()\n",
    "#first layer to the model with 8 neurons\n",
    "model.add(Dense(8, input_dim = len(x_data.loc[0, :]), activation = 'relu'))#only the first layer of neurons need to receive the input\n",
    "\n",
    "#this layer does not need an input\n",
    "model.add(Dense(4, activation = 'relu')) \n",
    "\n",
    "#sigmoid because it is a classification problem and \n",
    "#only one neuron is needed here because we only need to predict one value at the output\n",
    "model.add(Dense(1, activation = 'sigmoid')) "
   ]
  },
  {
   "cell_type": "code",
   "execution_count": 38,
   "id": "bc4d8529",
   "metadata": {
    "scrolled": true
   },
   "outputs": [
    {
     "name": "stdout",
     "output_type": "stream",
     "text": [
      "Model: \"sequential\"\n",
      "_________________________________________________________________\n",
      " Layer (type)                Output Shape              Param #   \n",
      "=================================================================\n",
      " dense (Dense)               (None, 8)                 56        \n",
      "                                                                 \n",
      " dense_1 (Dense)             (None, 4)                 36        \n",
      "                                                                 \n",
      " dense_2 (Dense)             (None, 1)                 5         \n",
      "                                                                 \n",
      "=================================================================\n",
      "Total params: 97\n",
      "Trainable params: 97\n",
      "Non-trainable params: 0\n",
      "_________________________________________________________________\n"
     ]
    }
   ],
   "source": [
    "#to see how the model looks like\n",
    "model.summary()"
   ]
  },
  {
   "cell_type": "code",
   "execution_count": 39,
   "id": "28331324",
   "metadata": {},
   "outputs": [],
   "source": [
    "#compile the model\n",
    "model.compile(loss ='binary_crossentropy', optimizer ='rmsprop', metrics = ['accuracy'])"
   ]
  },
  {
   "cell_type": "code",
   "execution_count": 40,
   "id": "f7d182fb",
   "metadata": {},
   "outputs": [
    {
     "name": "stdout",
     "output_type": "stream",
     "text": [
      "Epoch 1/256\n",
      "4/4 [==============================] - 4s 32ms/step - loss: 26.7446 - accuracy: 0.8031\n",
      "Epoch 2/256\n",
      "4/4 [==============================] - 0s 8ms/step - loss: 24.1913 - accuracy: 0.8031\n",
      "Epoch 3/256\n",
      "4/4 [==============================] - 0s 22ms/step - loss: 22.4184 - accuracy: 0.8031\n",
      "Epoch 4/256\n",
      "4/4 [==============================] - 0s 18ms/step - loss: 20.9275 - accuracy: 0.8031\n",
      "Epoch 5/256\n",
      "4/4 [==============================] - 0s 28ms/step - loss: 19.5707 - accuracy: 0.8031\n",
      "Epoch 6/256\n",
      "4/4 [==============================] - 0s 23ms/step - loss: 18.3134 - accuracy: 0.8031\n",
      "Epoch 7/256\n",
      "4/4 [==============================] - 0s 18ms/step - loss: 17.1377 - accuracy: 0.8031\n",
      "Epoch 8/256\n",
      "4/4 [==============================] - 0s 12ms/step - loss: 15.9911 - accuracy: 0.8031\n",
      "Epoch 9/256\n",
      "4/4 [==============================] - 0s 15ms/step - loss: 14.8811 - accuracy: 0.8031\n",
      "Epoch 10/256\n",
      "4/4 [==============================] - 0s 14ms/step - loss: 13.8313 - accuracy: 0.8031\n",
      "Epoch 11/256\n",
      "4/4 [==============================] - 0s 17ms/step - loss: 12.8084 - accuracy: 0.8031\n",
      "Epoch 12/256\n",
      "4/4 [==============================] - 0s 15ms/step - loss: 11.7984 - accuracy: 0.8031\n",
      "Epoch 13/256\n",
      "4/4 [==============================] - 0s 13ms/step - loss: 10.8663 - accuracy: 0.8031\n",
      "Epoch 14/256\n",
      "4/4 [==============================] - 0s 7ms/step - loss: 10.0164 - accuracy: 0.8031\n",
      "Epoch 15/256\n",
      "4/4 [==============================] - 0s 10ms/step - loss: 9.2090 - accuracy: 0.8031\n",
      "Epoch 16/256\n",
      "4/4 [==============================] - 0s 9ms/step - loss: 8.4183 - accuracy: 0.8031\n",
      "Epoch 17/256\n",
      "4/4 [==============================] - 0s 28ms/step - loss: 7.7386 - accuracy: 0.8031\n",
      "Epoch 18/256\n",
      "4/4 [==============================] - 0s 22ms/step - loss: 7.0965 - accuracy: 0.8031\n",
      "Epoch 19/256\n",
      "4/4 [==============================] - 0s 17ms/step - loss: 6.5012 - accuracy: 0.8031\n",
      "Epoch 20/256\n",
      "4/4 [==============================] - 0s 15ms/step - loss: 6.0038 - accuracy: 0.8031\n",
      "Epoch 21/256\n",
      "4/4 [==============================] - 0s 8ms/step - loss: 5.5528 - accuracy: 0.8031\n",
      "Epoch 22/256\n",
      "4/4 [==============================] - 0s 10ms/step - loss: 5.0866 - accuracy: 0.8031\n",
      "Epoch 23/256\n",
      "4/4 [==============================] - 0s 10ms/step - loss: 4.7221 - accuracy: 0.8031\n",
      "Epoch 24/256\n",
      "4/4 [==============================] - 0s 12ms/step - loss: 4.3968 - accuracy: 0.8031\n",
      "Epoch 25/256\n",
      "4/4 [==============================] - 0s 28ms/step - loss: 4.0864 - accuracy: 0.8031\n",
      "Epoch 26/256\n",
      "4/4 [==============================] - 0s 20ms/step - loss: 3.8073 - accuracy: 0.8031\n",
      "Epoch 27/256\n",
      "4/4 [==============================] - 0s 27ms/step - loss: 3.5707 - accuracy: 0.8031\n",
      "Epoch 28/256\n",
      "4/4 [==============================] - 0s 28ms/step - loss: 3.3334 - accuracy: 0.8031\n",
      "Epoch 29/256\n",
      "4/4 [==============================] - 0s 18ms/step - loss: 3.1133 - accuracy: 0.8031\n",
      "Epoch 30/256\n",
      "4/4 [==============================] - 0s 8ms/step - loss: 2.8998 - accuracy: 0.8031\n",
      "Epoch 31/256\n",
      "4/4 [==============================] - 0s 10ms/step - loss: 2.7136 - accuracy: 0.8031\n",
      "Epoch 32/256\n",
      "4/4 [==============================] - 0s 23ms/step - loss: 2.5405 - accuracy: 0.8031\n",
      "Epoch 33/256\n",
      "4/4 [==============================] - 0s 27ms/step - loss: 2.3727 - accuracy: 0.8031\n",
      "Epoch 34/256\n",
      "4/4 [==============================] - 0s 23ms/step - loss: 2.2289 - accuracy: 0.8031\n",
      "Epoch 35/256\n",
      "4/4 [==============================] - 0s 22ms/step - loss: 2.0764 - accuracy: 0.8031\n",
      "Epoch 36/256\n",
      "4/4 [==============================] - 0s 18ms/step - loss: 1.9390 - accuracy: 0.8031\n",
      "Epoch 37/256\n",
      "4/4 [==============================] - 0s 8ms/step - loss: 1.7974 - accuracy: 0.8031\n",
      "Epoch 38/256\n",
      "4/4 [==============================] - 0s 8ms/step - loss: 1.6763 - accuracy: 0.8031\n",
      "Epoch 39/256\n",
      "4/4 [==============================] - 0s 25ms/step - loss: 1.5524 - accuracy: 0.8031\n",
      "Epoch 40/256\n",
      "4/4 [==============================] - 0s 28ms/step - loss: 1.4397 - accuracy: 0.8031\n",
      "Epoch 41/256\n",
      "4/4 [==============================] - 0s 15ms/step - loss: 1.3254 - accuracy: 0.8031\n",
      "Epoch 42/256\n",
      "4/4 [==============================] - 0s 22ms/step - loss: 1.2051 - accuracy: 0.8031\n",
      "Epoch 43/256\n",
      "4/4 [==============================] - 0s 33ms/step - loss: 1.1061 - accuracy: 0.8031\n",
      "Epoch 44/256\n",
      "4/4 [==============================] - 0s 8ms/step - loss: 1.0016 - accuracy: 0.8031\n",
      "Epoch 45/256\n",
      "4/4 [==============================] - 0s 8ms/step - loss: 0.9079 - accuracy: 0.8031\n",
      "Epoch 46/256\n",
      "4/4 [==============================] - 0s 12ms/step - loss: 0.8139 - accuracy: 0.8031\n",
      "Epoch 47/256\n",
      "4/4 [==============================] - 0s 13ms/step - loss: 0.7244 - accuracy: 0.8031\n",
      "Epoch 48/256\n",
      "4/4 [==============================] - 0s 18ms/step - loss: 0.6488 - accuracy: 0.8031\n",
      "Epoch 49/256\n",
      "4/4 [==============================] - 0s 10ms/step - loss: 0.5695 - accuracy: 0.8031\n",
      "Epoch 50/256\n",
      "4/4 [==============================] - 0s 11ms/step - loss: 0.5198 - accuracy: 0.8031\n",
      "Epoch 51/256\n",
      "4/4 [==============================] - 0s 12ms/step - loss: 0.4801 - accuracy: 0.8031\n",
      "Epoch 52/256\n",
      "4/4 [==============================] - 0s 13ms/step - loss: 0.4515 - accuracy: 0.8031\n",
      "Epoch 53/256\n",
      "4/4 [==============================] - 0s 12ms/step - loss: 0.4375 - accuracy: 0.7874\n",
      "Epoch 54/256\n",
      "4/4 [==============================] - 0s 15ms/step - loss: 0.4200 - accuracy: 0.8031\n",
      "Epoch 55/256\n",
      "4/4 [==============================] - 0s 10ms/step - loss: 0.4044 - accuracy: 0.8110\n",
      "Epoch 56/256\n",
      "4/4 [==============================] - 0s 10ms/step - loss: 0.3970 - accuracy: 0.7795\n",
      "Epoch 57/256\n",
      "4/4 [==============================] - 0s 10ms/step - loss: 0.3714 - accuracy: 0.7717\n",
      "Epoch 58/256\n",
      "4/4 [==============================] - 0s 25ms/step - loss: 0.3638 - accuracy: 0.7953\n",
      "Epoch 59/256\n",
      "4/4 [==============================] - 0s 23ms/step - loss: 0.3534 - accuracy: 0.8110\n",
      "Epoch 60/256\n",
      "4/4 [==============================] - 0s 8ms/step - loss: 0.3543 - accuracy: 0.8110\n",
      "Epoch 61/256\n",
      "4/4 [==============================] - 0s 8ms/step - loss: 0.3384 - accuracy: 0.8110\n",
      "Epoch 62/256\n",
      "4/4 [==============================] - 0s 10ms/step - loss: 0.3465 - accuracy: 0.7953\n",
      "Epoch 63/256\n",
      "4/4 [==============================] - 0s 8ms/step - loss: 0.3386 - accuracy: 0.7953\n",
      "Epoch 64/256\n",
      "4/4 [==============================] - 0s 15ms/step - loss: 0.3310 - accuracy: 0.7953\n",
      "Epoch 65/256\n",
      "4/4 [==============================] - 0s 8ms/step - loss: 0.3227 - accuracy: 0.8031\n",
      "Epoch 66/256\n",
      "4/4 [==============================] - 0s 7ms/step - loss: 0.3192 - accuracy: 0.8110\n",
      "Epoch 67/256\n",
      "4/4 [==============================] - 0s 7ms/step - loss: 0.3179 - accuracy: 0.8031\n",
      "Epoch 68/256\n",
      "4/4 [==============================] - 0s 13ms/step - loss: 0.3201 - accuracy: 0.8031\n",
      "Epoch 69/256\n",
      "4/4 [==============================] - 0s 29ms/step - loss: 0.3095 - accuracy: 0.8268\n",
      "Epoch 70/256\n",
      "4/4 [==============================] - 0s 18ms/step - loss: 0.3157 - accuracy: 0.8346\n",
      "Epoch 71/256\n",
      "4/4 [==============================] - 0s 17ms/step - loss: 0.3143 - accuracy: 0.8268\n",
      "Epoch 72/256\n",
      "4/4 [==============================] - 0s 8ms/step - loss: 0.3114 - accuracy: 0.8346\n",
      "Epoch 73/256\n",
      "4/4 [==============================] - 0s 10ms/step - loss: 0.3138 - accuracy: 0.8268\n",
      "Epoch 74/256\n",
      "4/4 [==============================] - 0s 8ms/step - loss: 0.3123 - accuracy: 0.8346\n",
      "Epoch 75/256\n",
      "4/4 [==============================] - 0s 13ms/step - loss: 0.3089 - accuracy: 0.8346\n",
      "Epoch 76/256\n",
      "4/4 [==============================] - 0s 20ms/step - loss: 0.3097 - accuracy: 0.8346\n",
      "Epoch 77/256\n",
      "4/4 [==============================] - 0s 30ms/step - loss: 0.3104 - accuracy: 0.8346\n",
      "Epoch 78/256\n",
      "4/4 [==============================] - 0s 21ms/step - loss: 0.3098 - accuracy: 0.8346\n",
      "Epoch 79/256\n",
      "4/4 [==============================] - 0s 23ms/step - loss: 0.3083 - accuracy: 0.8346\n",
      "Epoch 80/256\n",
      "4/4 [==============================] - 0s 10ms/step - loss: 0.3033 - accuracy: 0.8189\n",
      "Epoch 81/256\n",
      "4/4 [==============================] - 0s 8ms/step - loss: 0.3101 - accuracy: 0.8346\n",
      "Epoch 82/256\n",
      "4/4 [==============================] - 0s 12ms/step - loss: 0.3019 - accuracy: 0.8346\n",
      "Epoch 83/256\n"
     ]
    },
    {
     "name": "stdout",
     "output_type": "stream",
     "text": [
      "4/4 [==============================] - 0s 20ms/step - loss: 0.3094 - accuracy: 0.8268\n",
      "Epoch 84/256\n",
      "4/4 [==============================] - 0s 99ms/step - loss: 0.3277 - accuracy: 0.8031\n",
      "Epoch 85/256\n",
      "4/4 [==============================] - 0s 35ms/step - loss: 0.3045 - accuracy: 0.8425\n",
      "Epoch 86/256\n",
      "4/4 [==============================] - 0s 12ms/step - loss: 0.3109 - accuracy: 0.8346\n",
      "Epoch 87/256\n",
      "4/4 [==============================] - 0s 10ms/step - loss: 0.3110 - accuracy: 0.8268\n",
      "Epoch 88/256\n",
      "4/4 [==============================] - 0s 10ms/step - loss: 0.3127 - accuracy: 0.8346\n",
      "Epoch 89/256\n",
      "4/4 [==============================] - 0s 10ms/step - loss: 0.3091 - accuracy: 0.8268\n",
      "Epoch 90/256\n",
      "4/4 [==============================] - 0s 17ms/step - loss: 0.3093 - accuracy: 0.8268\n",
      "Epoch 91/256\n",
      "4/4 [==============================] - 0s 12ms/step - loss: 0.3084 - accuracy: 0.8346\n",
      "Epoch 92/256\n",
      "4/4 [==============================] - 0s 12ms/step - loss: 0.3054 - accuracy: 0.8346\n",
      "Epoch 93/256\n",
      "4/4 [==============================] - 0s 17ms/step - loss: 0.3122 - accuracy: 0.8346\n",
      "Epoch 94/256\n",
      "4/4 [==============================] - 0s 22ms/step - loss: 0.3026 - accuracy: 0.8268\n",
      "Epoch 95/256\n",
      "4/4 [==============================] - 0s 8ms/step - loss: 0.3025 - accuracy: 0.8346\n",
      "Epoch 96/256\n",
      "4/4 [==============================] - 0s 11ms/step - loss: 0.3104 - accuracy: 0.8346\n",
      "Epoch 97/256\n",
      "4/4 [==============================] - 0s 10ms/step - loss: 0.3168 - accuracy: 0.8189\n",
      "Epoch 98/256\n",
      "4/4 [==============================] - 0s 10ms/step - loss: 0.3045 - accuracy: 0.8346\n",
      "Epoch 99/256\n",
      "4/4 [==============================] - 0s 7ms/step - loss: 0.3051 - accuracy: 0.8346\n",
      "Epoch 100/256\n",
      "4/4 [==============================] - 0s 10ms/step - loss: 0.3002 - accuracy: 0.8346\n",
      "Epoch 101/256\n",
      "4/4 [==============================] - 0s 12ms/step - loss: 0.3063 - accuracy: 0.8268\n",
      "Epoch 102/256\n",
      "4/4 [==============================] - 0s 20ms/step - loss: 0.3110 - accuracy: 0.8268\n",
      "Epoch 103/256\n",
      "4/4 [==============================] - 0s 8ms/step - loss: 0.3065 - accuracy: 0.8346\n",
      "Epoch 104/256\n",
      "4/4 [==============================] - 0s 7ms/step - loss: 0.3035 - accuracy: 0.8346\n",
      "Epoch 105/256\n",
      "4/4 [==============================] - 0s 8ms/step - loss: 0.3001 - accuracy: 0.8425\n",
      "Epoch 106/256\n",
      "4/4 [==============================] - 0s 15ms/step - loss: 0.3020 - accuracy: 0.8425\n",
      "Epoch 107/256\n",
      "4/4 [==============================] - 0s 25ms/step - loss: 0.3098 - accuracy: 0.8346\n",
      "Epoch 108/256\n",
      "4/4 [==============================] - 0s 12ms/step - loss: 0.3061 - accuracy: 0.8268\n",
      "Epoch 109/256\n",
      "4/4 [==============================] - 0s 8ms/step - loss: 0.3031 - accuracy: 0.8346\n",
      "Epoch 110/256\n",
      "4/4 [==============================] - 0s 8ms/step - loss: 0.3077 - accuracy: 0.8268\n",
      "Epoch 111/256\n",
      "4/4 [==============================] - 0s 52ms/step - loss: 0.3035 - accuracy: 0.8346\n",
      "Epoch 112/256\n",
      "4/4 [==============================] - 0s 28ms/step - loss: 0.3029 - accuracy: 0.8268\n",
      "Epoch 113/256\n",
      "4/4 [==============================] - 0s 34ms/step - loss: 0.2960 - accuracy: 0.8268\n",
      "Epoch 114/256\n",
      "4/4 [==============================] - 0s 12ms/step - loss: 0.3134 - accuracy: 0.8346\n",
      "Epoch 115/256\n",
      "4/4 [==============================] - 0s 30ms/step - loss: 0.3041 - accuracy: 0.8268\n",
      "Epoch 116/256\n",
      "4/4 [==============================] - 0s 34ms/step - loss: 0.3073 - accuracy: 0.8346\n",
      "Epoch 117/256\n",
      "4/4 [==============================] - 0s 30ms/step - loss: 0.2994 - accuracy: 0.8346\n",
      "Epoch 118/256\n",
      "4/4 [==============================] - 0s 29ms/step - loss: 0.2954 - accuracy: 0.8425\n",
      "Epoch 119/256\n",
      "4/4 [==============================] - 0s 34ms/step - loss: 0.3008 - accuracy: 0.8346\n",
      "Epoch 120/256\n",
      "4/4 [==============================] - 0s 8ms/step - loss: 0.2990 - accuracy: 0.8346\n",
      "Epoch 121/256\n",
      "4/4 [==============================] - 0s 12ms/step - loss: 0.3129 - accuracy: 0.8268\n",
      "Epoch 122/256\n",
      "4/4 [==============================] - 0s 8ms/step - loss: 0.3034 - accuracy: 0.8268\n",
      "Epoch 123/256\n",
      "4/4 [==============================] - 0s 8ms/step - loss: 0.3054 - accuracy: 0.8268\n",
      "Epoch 124/256\n",
      "4/4 [==============================] - 0s 25ms/step - loss: 0.2970 - accuracy: 0.8425\n",
      "Epoch 125/256\n",
      "4/4 [==============================] - 0s 14ms/step - loss: 0.3143 - accuracy: 0.8110\n",
      "Epoch 126/256\n",
      "4/4 [==============================] - 0s 15ms/step - loss: 0.3007 - accuracy: 0.8346\n",
      "Epoch 127/256\n",
      "4/4 [==============================] - 0s 7ms/step - loss: 0.3035 - accuracy: 0.8346\n",
      "Epoch 128/256\n",
      "4/4 [==============================] - 0s 12ms/step - loss: 0.2946 - accuracy: 0.8425\n",
      "Epoch 129/256\n",
      "4/4 [==============================] - 0s 10ms/step - loss: 0.2954 - accuracy: 0.8268\n",
      "Epoch 130/256\n",
      "4/4 [==============================] - 0s 20ms/step - loss: 0.3060 - accuracy: 0.8268\n",
      "Epoch 131/256\n",
      "4/4 [==============================] - 0s 13ms/step - loss: 0.3137 - accuracy: 0.8189\n",
      "Epoch 132/256\n",
      "4/4 [==============================] - 0s 10ms/step - loss: 0.2982 - accuracy: 0.8346\n",
      "Epoch 133/256\n",
      "4/4 [==============================] - 0s 10ms/step - loss: 0.3013 - accuracy: 0.8346\n",
      "Epoch 134/256\n",
      "4/4 [==============================] - 0s 8ms/step - loss: 0.2961 - accuracy: 0.8425\n",
      "Epoch 135/256\n",
      "4/4 [==============================] - 0s 8ms/step - loss: 0.2977 - accuracy: 0.8268\n",
      "Epoch 136/256\n",
      "4/4 [==============================] - 0s 27ms/step - loss: 0.2996 - accuracy: 0.8346\n",
      "Epoch 137/256\n",
      "4/4 [==============================] - 0s 22ms/step - loss: 0.3025 - accuracy: 0.8346\n",
      "Epoch 138/256\n",
      "4/4 [==============================] - 0s 10ms/step - loss: 0.2951 - accuracy: 0.8268\n",
      "Epoch 139/256\n",
      "4/4 [==============================] - 0s 8ms/step - loss: 0.3030 - accuracy: 0.8268\n",
      "Epoch 140/256\n",
      "4/4 [==============================] - 0s 10ms/step - loss: 0.2986 - accuracy: 0.8425\n",
      "Epoch 141/256\n",
      "4/4 [==============================] - 0s 45ms/step - loss: 0.3080 - accuracy: 0.8268\n",
      "Epoch 142/256\n",
      "4/4 [==============================] - 0s 48ms/step - loss: 0.3018 - accuracy: 0.8346\n",
      "Epoch 143/256\n",
      "4/4 [==============================] - 0s 9ms/step - loss: 0.2975 - accuracy: 0.8346\n",
      "Epoch 144/256\n",
      "4/4 [==============================] - 0s 13ms/step - loss: 0.2953 - accuracy: 0.8425\n",
      "Epoch 145/256\n",
      "4/4 [==============================] - 0s 37ms/step - loss: 0.2981 - accuracy: 0.8346\n",
      "Epoch 146/256\n",
      "4/4 [==============================] - 0s 25ms/step - loss: 0.3010 - accuracy: 0.8268\n",
      "Epoch 147/256\n",
      "4/4 [==============================] - 0s 8ms/step - loss: 0.2959 - accuracy: 0.8346\n",
      "Epoch 148/256\n",
      "4/4 [==============================] - 0s 7ms/step - loss: 0.2993 - accuracy: 0.8268\n",
      "Epoch 149/256\n",
      "4/4 [==============================] - 0s 28ms/step - loss: 0.3007 - accuracy: 0.8268\n",
      "Epoch 150/256\n",
      "4/4 [==============================] - 0s 13ms/step - loss: 0.3040 - accuracy: 0.8346\n",
      "Epoch 151/256\n",
      "4/4 [==============================] - 0s 8ms/step - loss: 0.2970 - accuracy: 0.8346\n",
      "Epoch 152/256\n",
      "4/4 [==============================] - 0s 8ms/step - loss: 0.2998 - accuracy: 0.8346\n",
      "Epoch 153/256\n",
      "4/4 [==============================] - 0s 13ms/step - loss: 0.2937 - accuracy: 0.8346\n",
      "Epoch 154/256\n",
      "4/4 [==============================] - 0s 7ms/step - loss: 0.3030 - accuracy: 0.8268\n",
      "Epoch 155/256\n",
      "4/4 [==============================] - 0s 7ms/step - loss: 0.2986 - accuracy: 0.8425\n",
      "Epoch 156/256\n",
      "4/4 [==============================] - 0s 17ms/step - loss: 0.3162 - accuracy: 0.8268\n",
      "Epoch 157/256\n",
      "4/4 [==============================] - 0s 8ms/step - loss: 0.3007 - accuracy: 0.8346\n",
      "Epoch 158/256\n",
      "4/4 [==============================] - 0s 7ms/step - loss: 0.2938 - accuracy: 0.8346\n",
      "Epoch 159/256\n",
      "4/4 [==============================] - 0s 10ms/step - loss: 0.2963 - accuracy: 0.8425\n",
      "Epoch 160/256\n",
      "4/4 [==============================] - 0s 8ms/step - loss: 0.2999 - accuracy: 0.8268\n",
      "Epoch 161/256\n",
      "4/4 [==============================] - 0s 8ms/step - loss: 0.2973 - accuracy: 0.8346\n",
      "Epoch 162/256\n",
      "4/4 [==============================] - 0s 27ms/step - loss: 0.2954 - accuracy: 0.8346\n",
      "Epoch 163/256\n",
      "4/4 [==============================] - 0s 5ms/step - loss: 0.2983 - accuracy: 0.8346\n",
      "Epoch 164/256\n",
      "4/4 [==============================] - 0s 8ms/step - loss: 0.3055 - accuracy: 0.8268\n",
      "Epoch 165/256\n"
     ]
    },
    {
     "name": "stdout",
     "output_type": "stream",
     "text": [
      "4/4 [==============================] - 0s 15ms/step - loss: 0.3023 - accuracy: 0.8346\n",
      "Epoch 166/256\n",
      "4/4 [==============================] - 0s 7ms/step - loss: 0.2983 - accuracy: 0.8268\n",
      "Epoch 167/256\n",
      "4/4 [==============================] - 0s 7ms/step - loss: 0.2922 - accuracy: 0.8425\n",
      "Epoch 168/256\n",
      "4/4 [==============================] - 0s 23ms/step - loss: 0.2972 - accuracy: 0.8346\n",
      "Epoch 169/256\n",
      "4/4 [==============================] - 0s 17ms/step - loss: 0.3022 - accuracy: 0.8268\n",
      "Epoch 170/256\n",
      "4/4 [==============================] - 0s 13ms/step - loss: 0.2998 - accuracy: 0.8346\n",
      "Epoch 171/256\n",
      "4/4 [==============================] - 0s 7ms/step - loss: 0.3063 - accuracy: 0.8346\n",
      "Epoch 172/256\n",
      "4/4 [==============================] - 0s 31ms/step - loss: 0.2952 - accuracy: 0.8346\n",
      "Epoch 173/256\n",
      "4/4 [==============================] - 0s 22ms/step - loss: 0.2998 - accuracy: 0.8346\n",
      "Epoch 174/256\n",
      "4/4 [==============================] - 0s 10ms/step - loss: 0.2933 - accuracy: 0.8346\n",
      "Epoch 175/256\n",
      "4/4 [==============================] - 0s 15ms/step - loss: 0.2946 - accuracy: 0.8346\n",
      "Epoch 176/256\n",
      "4/4 [==============================] - 0s 8ms/step - loss: 0.2971 - accuracy: 0.8346\n",
      "Epoch 177/256\n",
      "4/4 [==============================] - 0s 27ms/step - loss: 0.3092 - accuracy: 0.8268\n",
      "Epoch 178/256\n",
      "4/4 [==============================] - 0s 15ms/step - loss: 0.2929 - accuracy: 0.8425\n",
      "Epoch 179/256\n",
      "4/4 [==============================] - 0s 10ms/step - loss: 0.2949 - accuracy: 0.8346\n",
      "Epoch 180/256\n",
      "4/4 [==============================] - 0s 10ms/step - loss: 0.2914 - accuracy: 0.8425\n",
      "Epoch 181/256\n",
      "4/4 [==============================] - 0s 15ms/step - loss: 0.2925 - accuracy: 0.8346\n",
      "Epoch 182/256\n",
      "4/4 [==============================] - 0s 13ms/step - loss: 0.2959 - accuracy: 0.8346\n",
      "Epoch 183/256\n",
      "4/4 [==============================] - 0s 6ms/step - loss: 0.2918 - accuracy: 0.8504\n",
      "Epoch 184/256\n",
      "4/4 [==============================] - 0s 10ms/step - loss: 0.2934 - accuracy: 0.8346\n",
      "Epoch 185/256\n",
      "4/4 [==============================] - 0s 12ms/step - loss: 0.2970 - accuracy: 0.8346\n",
      "Epoch 186/256\n",
      "4/4 [==============================] - 0s 12ms/step - loss: 0.3013 - accuracy: 0.8346\n",
      "Epoch 187/256\n",
      "4/4 [==============================] - 0s 13ms/step - loss: 0.2963 - accuracy: 0.8268\n",
      "Epoch 188/256\n",
      "4/4 [==============================] - 0s 13ms/step - loss: 0.2967 - accuracy: 0.8346\n",
      "Epoch 189/256\n",
      "4/4 [==============================] - 0s 8ms/step - loss: 0.2991 - accuracy: 0.8268\n",
      "Epoch 190/256\n",
      "4/4 [==============================] - 0s 13ms/step - loss: 0.2947 - accuracy: 0.8346\n",
      "Epoch 191/256\n",
      "4/4 [==============================] - 0s 12ms/step - loss: 0.2930 - accuracy: 0.8425\n",
      "Epoch 192/256\n",
      "4/4 [==============================] - 0s 14ms/step - loss: 0.3085 - accuracy: 0.8189\n",
      "Epoch 193/256\n",
      "4/4 [==============================] - 0s 12ms/step - loss: 0.2940 - accuracy: 0.8346\n",
      "Epoch 194/256\n",
      "4/4 [==============================] - 0s 12ms/step - loss: 0.2964 - accuracy: 0.8346\n",
      "Epoch 195/256\n",
      "4/4 [==============================] - 0s 22ms/step - loss: 0.2884 - accuracy: 0.8425\n",
      "Epoch 196/256\n",
      "4/4 [==============================] - 0s 7ms/step - loss: 0.2981 - accuracy: 0.8268\n",
      "Epoch 197/256\n",
      "4/4 [==============================] - 0s 10ms/step - loss: 0.2991 - accuracy: 0.8268\n",
      "Epoch 198/256\n",
      "4/4 [==============================] - 0s 18ms/step - loss: 0.2940 - accuracy: 0.8425\n",
      "Epoch 199/256\n",
      "4/4 [==============================] - 0s 27ms/step - loss: 0.2974 - accuracy: 0.8268\n",
      "Epoch 200/256\n",
      "4/4 [==============================] - 0s 10ms/step - loss: 0.2936 - accuracy: 0.8346\n",
      "Epoch 201/256\n",
      "4/4 [==============================] - 0s 7ms/step - loss: 0.3059 - accuracy: 0.8268\n",
      "Epoch 202/256\n",
      "4/4 [==============================] - 0s 42ms/step - loss: 0.3016 - accuracy: 0.8268\n",
      "Epoch 203/256\n",
      "4/4 [==============================] - 0s 28ms/step - loss: 0.2893 - accuracy: 0.8425\n",
      "Epoch 204/256\n",
      "4/4 [==============================] - 0s 8ms/step - loss: 0.2956 - accuracy: 0.8346\n",
      "Epoch 205/256\n",
      "4/4 [==============================] - 0s 7ms/step - loss: 0.2915 - accuracy: 0.8346\n",
      "Epoch 206/256\n",
      "4/4 [==============================] - 0s 18ms/step - loss: 0.2945 - accuracy: 0.8346\n",
      "Epoch 207/256\n",
      "4/4 [==============================] - 0s 16ms/step - loss: 0.2956 - accuracy: 0.8346\n",
      "Epoch 208/256\n",
      "4/4 [==============================] - 0s 6ms/step - loss: 0.2928 - accuracy: 0.8346\n",
      "Epoch 209/256\n",
      "4/4 [==============================] - 0s 23ms/step - loss: 0.2904 - accuracy: 0.8346\n",
      "Epoch 210/256\n",
      "4/4 [==============================] - 0s 7ms/step - loss: 0.3011 - accuracy: 0.8268\n",
      "Epoch 211/256\n",
      "4/4 [==============================] - 0s 8ms/step - loss: 0.2944 - accuracy: 0.8346\n",
      "Epoch 212/256\n",
      "4/4 [==============================] - 0s 12ms/step - loss: 0.2897 - accuracy: 0.8425\n",
      "Epoch 213/256\n",
      "4/4 [==============================] - 0s 7ms/step - loss: 0.2998 - accuracy: 0.8268\n",
      "Epoch 214/256\n",
      "4/4 [==============================] - 0s 8ms/step - loss: 0.3005 - accuracy: 0.8189\n",
      "Epoch 215/256\n",
      "4/4 [==============================] - 0s 18ms/step - loss: 0.2862 - accuracy: 0.8425\n",
      "Epoch 216/256\n",
      "4/4 [==============================] - 0s 8ms/step - loss: 0.2998 - accuracy: 0.8346\n",
      "Epoch 217/256\n",
      "4/4 [==============================] - 0s 10ms/step - loss: 0.2880 - accuracy: 0.8425\n",
      "Epoch 218/256\n",
      "4/4 [==============================] - 0s 13ms/step - loss: 0.3014 - accuracy: 0.8268\n",
      "Epoch 219/256\n",
      "4/4 [==============================] - 0s 12ms/step - loss: 0.2882 - accuracy: 0.8425\n",
      "Epoch 220/256\n",
      "4/4 [==============================] - 0s 12ms/step - loss: 0.2891 - accuracy: 0.8346\n",
      "Epoch 221/256\n",
      "4/4 [==============================] - 0s 17ms/step - loss: 0.2972 - accuracy: 0.8346\n",
      "Epoch 222/256\n",
      "4/4 [==============================] - 0s 10ms/step - loss: 0.2889 - accuracy: 0.8425\n",
      "Epoch 223/256\n",
      "4/4 [==============================] - 0s 20ms/step - loss: 0.2888 - accuracy: 0.8346\n",
      "Epoch 224/256\n",
      "4/4 [==============================] - 0s 15ms/step - loss: 0.2961 - accuracy: 0.8346\n",
      "Epoch 225/256\n",
      "4/4 [==============================] - 0s 7ms/step - loss: 0.2953 - accuracy: 0.8346\n",
      "Epoch 226/256\n",
      "4/4 [==============================] - 0s 8ms/step - loss: 0.2919 - accuracy: 0.8346\n",
      "Epoch 227/256\n",
      "4/4 [==============================] - 0s 17ms/step - loss: 0.2877 - accuracy: 0.8425\n",
      "Epoch 228/256\n",
      "4/4 [==============================] - 0s 8ms/step - loss: 0.2937 - accuracy: 0.8268\n",
      "Epoch 229/256\n",
      "4/4 [==============================] - 0s 13ms/step - loss: 0.2923 - accuracy: 0.8425\n",
      "Epoch 230/256\n",
      "4/4 [==============================] - 0s 10ms/step - loss: 0.3013 - accuracy: 0.8268\n",
      "Epoch 231/256\n",
      "4/4 [==============================] - 0s 7ms/step - loss: 0.2925 - accuracy: 0.8425\n",
      "Epoch 232/256\n",
      "4/4 [==============================] - 0s 25ms/step - loss: 0.2918 - accuracy: 0.8346\n",
      "Epoch 233/256\n",
      "4/4 [==============================] - 0s 8ms/step - loss: 0.2867 - accuracy: 0.8425\n",
      "Epoch 234/256\n",
      "4/4 [==============================] - 0s 5ms/step - loss: 0.2883 - accuracy: 0.8425\n",
      "Epoch 235/256\n",
      "4/4 [==============================] - 0s 12ms/step - loss: 0.2893 - accuracy: 0.8346\n",
      "Epoch 236/256\n",
      "4/4 [==============================] - 0s 12ms/step - loss: 0.2920 - accuracy: 0.8346\n",
      "Epoch 237/256\n",
      "4/4 [==============================] - 0s 7ms/step - loss: 0.2982 - accuracy: 0.8346\n",
      "Epoch 238/256\n",
      "4/4 [==============================] - 0s 10ms/step - loss: 0.2890 - accuracy: 0.8425\n",
      "Epoch 239/256\n",
      "4/4 [==============================] - 0s 10ms/step - loss: 0.2942 - accuracy: 0.8346\n",
      "Epoch 240/256\n",
      "4/4 [==============================] - 0s 8ms/step - loss: 0.2868 - accuracy: 0.8346\n",
      "Epoch 241/256\n",
      "4/4 [==============================] - 0s 8ms/step - loss: 0.2950 - accuracy: 0.8346\n",
      "Epoch 242/256\n",
      "4/4 [==============================] - 0s 15ms/step - loss: 0.2944 - accuracy: 0.8346\n",
      "Epoch 243/256\n",
      "4/4 [==============================] - 0s 7ms/step - loss: 0.2921 - accuracy: 0.8346\n",
      "Epoch 244/256\n",
      "4/4 [==============================] - 0s 8ms/step - loss: 0.2928 - accuracy: 0.8346\n",
      "Epoch 245/256\n",
      "4/4 [==============================] - 0s 12ms/step - loss: 0.2873 - accuracy: 0.8425\n",
      "Epoch 246/256\n",
      "4/4 [==============================] - 0s 8ms/step - loss: 0.2984 - accuracy: 0.8268\n",
      "Epoch 247/256\n"
     ]
    },
    {
     "name": "stdout",
     "output_type": "stream",
     "text": [
      "4/4 [==============================] - 0s 8ms/step - loss: 0.2919 - accuracy: 0.8346\n",
      "Epoch 248/256\n",
      "4/4 [==============================] - 0s 8ms/step - loss: 0.2911 - accuracy: 0.8346\n",
      "Epoch 249/256\n",
      "4/4 [==============================] - 0s 8ms/step - loss: 0.2889 - accuracy: 0.8268\n",
      "Epoch 250/256\n",
      "4/4 [==============================] - 0s 13ms/step - loss: 0.2892 - accuracy: 0.8346\n",
      "Epoch 251/256\n",
      "4/4 [==============================] - 0s 13ms/step - loss: 0.2853 - accuracy: 0.8425\n",
      "Epoch 252/256\n",
      "4/4 [==============================] - 0s 7ms/step - loss: 0.2879 - accuracy: 0.8268\n",
      "Epoch 253/256\n",
      "4/4 [==============================] - 0s 8ms/step - loss: 0.2889 - accuracy: 0.8425\n",
      "Epoch 254/256\n",
      "4/4 [==============================] - 0s 12ms/step - loss: 0.2948 - accuracy: 0.8268\n",
      "Epoch 255/256\n",
      "4/4 [==============================] - 0s 8ms/step - loss: 0.2952 - accuracy: 0.8346\n",
      "Epoch 256/256\n",
      "4/4 [==============================] - 0s 13ms/step - loss: 0.2923 - accuracy: 0.8346\n"
     ]
    },
    {
     "data": {
      "text/plain": [
       "<keras.callbacks.History at 0x22dbbfbd8b0>"
      ]
     },
     "execution_count": 40,
     "metadata": {},
     "output_type": "execute_result"
    }
   ],
   "source": [
    "#train the model\n",
    "model.fit(X_train,Y_train, epochs = 256, verbose = 1)"
   ]
  },
  {
   "cell_type": "code",
   "execution_count": 53,
   "id": "a028a92b",
   "metadata": {},
   "outputs": [
    {
     "name": "stdout",
     "output_type": "stream",
     "text": [
      "4/4 [==============================] - 0s 5ms/step\n",
      "[[0.00]\n",
      " [0.29]\n",
      " [0.40]\n",
      " [0.00]\n",
      " [0.01]]\n"
     ]
    }
   ],
   "source": [
    "#Evaluate the trained model using accuracy and precision\n",
    "prediction = model.predict(X_train)\n",
    "print(prediction[:5])"
   ]
  },
  {
   "cell_type": "code",
   "execution_count": 44,
   "id": "5f4191e1",
   "metadata": {},
   "outputs": [],
   "source": [
    "np.set_printoptions(formatter = {'float': '{:0.2f}'.format})"
   ]
  },
  {
   "cell_type": "code",
   "execution_count": 54,
   "id": "1eca74e6",
   "metadata": {},
   "outputs": [
    {
     "name": "stdout",
     "output_type": "stream",
     "text": [
      "     Species\n",
      "75         0\n",
      "138        0\n",
      "2          1\n",
      "86         0\n",
      "45         0\n"
     ]
    }
   ],
   "source": [
    "print(Y_train[:5])"
   ]
  },
  {
   "cell_type": "code",
   "execution_count": 56,
   "id": "2aa147eb",
   "metadata": {},
   "outputs": [],
   "source": [
    "from sklearn.metrics import accuracy_score, precision_score, recall_score, f1_score"
   ]
  },
  {
   "cell_type": "code",
   "execution_count": 59,
   "id": "3932bc7d",
   "metadata": {},
   "outputs": [
    {
     "data": {
      "text/plain": [
       "0.8346456692913385"
      ]
     },
     "execution_count": 59,
     "metadata": {},
     "output_type": "execute_result"
    }
   ],
   "source": [
    "my_accuracy = accuracy_score(Y_train,prediction.round())\n",
    "my_accuracy"
   ]
  },
  {
   "cell_type": "code",
   "execution_count": 64,
   "id": "93299e45",
   "metadata": {},
   "outputs": [
    {
     "data": {
      "text/plain": [
       "0.5625"
      ]
     },
     "execution_count": 64,
     "metadata": {},
     "output_type": "execute_result"
    }
   ],
   "source": [
    "precision =  precision_score(Y_train, prediction.round())\n",
    "precision"
   ]
  },
  {
   "cell_type": "code",
   "execution_count": 65,
   "id": "3f0b1a29",
   "metadata": {},
   "outputs": [
    {
     "data": {
      "text/plain": [
       "0.72"
      ]
     },
     "execution_count": 65,
     "metadata": {},
     "output_type": "execute_result"
    }
   ],
   "source": [
    "recall =  recall_score(Y_train, prediction.round())\n",
    "recall"
   ]
  },
  {
   "cell_type": "code",
   "execution_count": 66,
   "id": "82664153",
   "metadata": {},
   "outputs": [
    {
     "data": {
      "text/plain": [
       "0.631578947368421"
      ]
     },
     "execution_count": 66,
     "metadata": {},
     "output_type": "execute_result"
    }
   ],
   "source": [
    "f1 =  f1_score(Y_train, prediction.round())\n",
    "f1"
   ]
  },
  {
   "cell_type": "code",
   "execution_count": null,
   "id": "98217325",
   "metadata": {},
   "outputs": [],
   "source": []
  }
 ],
 "metadata": {
  "kernelspec": {
   "display_name": "Python 3 (ipykernel)",
   "language": "python",
   "name": "python3"
  },
  "language_info": {
   "codemirror_mode": {
    "name": "ipython",
    "version": 3
   },
   "file_extension": ".py",
   "mimetype": "text/x-python",
   "name": "python",
   "nbconvert_exporter": "python",
   "pygments_lexer": "ipython3",
   "version": "3.9.7"
  }
 },
 "nbformat": 4,
 "nbformat_minor": 5
}
